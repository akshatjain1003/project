{
  "nbformat": 4,    //int
  "nbformat_minor": 0,
  "metadata": {
    "colab": {
      "name": "PROJECT",
      "provenance": [],
      "collapsed_sections": [],
      "authorship_tag": "ABX9TyMRffTDJwP8VFXvdXqvbatK",
      "include_colab_link": true
    },
    "kernelspec": {
      "name": "python3",
      "display_name": "Python 3"
    }
  },
  "cells": [
    {
      "cell_type": "markdown",
      "metadata": {
        "id": "view-in-github",
        "colab_type": "text"
      },
      "source": [
        "<a href=\"https://colab.research.google.com/github/akshatjain1003/project/blob/master/PROJECT.ipynb\" target=\"_parent\"><img src=\"https://colab.research.google.com/assets/colab-badge.svg\" alt=\"Open In Colab\"/></a>"
      ]
    },
    {
      "cell_type": "markdown",
      "metadata": {
        "id": "F6KWRBFlikzu",
        "colab_type": "text"
      },
      "source": [
        "***Exploratory Data Anaylysis Of Car Feature***"
      ]
    },
    {
      "cell_type": "markdown",
      "metadata": {
        "id": "l_KnRoIAjSf8",
        "colab_type": "text"
      },
      "source": [
        "**TASK 1**\n",
        "\n",
        "\n",
        "Importing the required libraries"
      ]
    },
    {
      "cell_type": "code",
      "metadata": {
        "id": "TX9XW1Y2m9Pi",
        "colab_type": "code",
        "colab": {}
      },
      "source": [
        "#libraries importation\n",
        "import numpy as np                   # data processing, CSV file I/O\n",
        "import pandas as pd                   # linear algebra\n",
        "import matplotlib.pyplot as plt      # Matlab-style plotting  (Visualisation)\n",
        "import scipy as sc          \n",
        "from scipy.stats import norm, skew   # for some statistics   \n",
        "\n",
        "import seaborn as sns                # Visualisation\n",
        "color = sns.color_palette()\n",
        "sns.set_style('darkgrid')\n",
        "\n",
        "import warnings\n",
        "def ignore_warn(*args, **kwargs):\n",
        "     pass\n",
        "warnings.war = ignore_warn           # ignore warnings (from sklearn and seaborn)"
      ],
      "execution_count": null,
      "outputs": []
    },
    {
      "cell_type": "markdown",
      "metadata": {
        "id": "uDGXwffIqpt_",
        "colab_type": "text"
      },
      "source": [
        "-> Loading the data into data frame"
      ]
    },
    {
      "cell_type": "code",
      "metadata": {
        "id": "yV5GWeX2qliV",
        "colab_type": "code",
        "colab": {}
      },
      "source": [
        "import pandas as pd\n",
        "url ='https://raw.githubusercontent.com/akshatjain1003/project/master/data.csv'\n",
        "df = pd.read_csv(url)\n",
        "#Dataset is now stored in a Pandas Dataframe"
      ],
      "execution_count": 963,
      "outputs": []
    },
    {
      "cell_type": "code",
      "metadata": {
        "id": "fFSOkbeTlz3l",
        "colab_type": "code",
        "colab": {
          "base_uri": "https://localhost:8080/",
          "height": 295
        },
        "outputId": "5b4a9fcf-a40e-4802-bffe-2299ea0dc02d"
      },
      "source": [
        "#checking the first- five rows of the given table\n",
        "df.head() "
      ],
      "execution_count": 964,
      "outputs": [
        {
          "output_type": "execute_result",
          "data": {
            "text/html": [
              "<div>\n",
              "<style scoped>\n",
              "    .dataframe tbody tr th:only-of-type {\n",
              "        vertical-align: middle;\n",
              "    }\n",
              "\n",
              "    .dataframe tbody tr th {\n",
              "        vertical-align: top;\n",
              "    }\n",
              "\n",
              "    .dataframe thead th {\n",
              "        text-align: right;\n",
              "    }\n",
              "</style>\n",
              "<table border=\"1\" class=\"dataframe\">\n",
              "  <thead>\n",
              "    <tr style=\"text-align: right;\">\n",
              "      <th></th>\n",
              "      <th>Make</th>\n",
              "      <th>Model</th>\n",
              "      <th>Year</th>\n",
              "      <th>Engine Fuel Type</th>\n",
              "      <th>Engine HP</th>\n",
              "      <th>Engine Cylinders</th>\n",
              "      <th>Transmission Type</th>\n",
              "      <th>Driven_Wheels</th>\n",
              "      <th>Number of Doors</th>\n",
              "      <th>Market Category</th>\n",
              "      <th>Vehicle Size</th>\n",
              "      <th>Vehicle Style</th>\n",
              "      <th>highway MPG</th>\n",
              "      <th>city mpg</th>\n",
              "      <th>Popularity</th>\n",
              "      <th>MSRP</th>\n",
              "    </tr>\n",
              "  </thead>\n",
              "  <tbody>\n",
              "    <tr>\n",
              "      <th>0</th>\n",
              "      <td>BMW</td>\n",
              "      <td>1 Series M</td>\n",
              "      <td>2011</td>\n",
              "      <td>premium unleaded (required)</td>\n",
              "      <td>335.0</td>\n",
              "      <td>6.0</td>\n",
              "      <td>MANUAL</td>\n",
              "      <td>rear wheel drive</td>\n",
              "      <td>2.0</td>\n",
              "      <td>Factory Tuner,Luxury,High-Performance</td>\n",
              "      <td>Compact</td>\n",
              "      <td>Coupe</td>\n",
              "      <td>26</td>\n",
              "      <td>19</td>\n",
              "      <td>3916</td>\n",
              "      <td>46135</td>\n",
              "    </tr>\n",
              "    <tr>\n",
              "      <th>1</th>\n",
              "      <td>BMW</td>\n",
              "      <td>1 Series</td>\n",
              "      <td>2011</td>\n",
              "      <td>premium unleaded (required)</td>\n",
              "      <td>300.0</td>\n",
              "      <td>6.0</td>\n",
              "      <td>MANUAL</td>\n",
              "      <td>rear wheel drive</td>\n",
              "      <td>2.0</td>\n",
              "      <td>Luxury,Performance</td>\n",
              "      <td>Compact</td>\n",
              "      <td>Convertible</td>\n",
              "      <td>28</td>\n",
              "      <td>19</td>\n",
              "      <td>3916</td>\n",
              "      <td>40650</td>\n",
              "    </tr>\n",
              "    <tr>\n",
              "      <th>2</th>\n",
              "      <td>BMW</td>\n",
              "      <td>1 Series</td>\n",
              "      <td>2011</td>\n",
              "      <td>premium unleaded (required)</td>\n",
              "      <td>300.0</td>\n",
              "      <td>6.0</td>\n",
              "      <td>MANUAL</td>\n",
              "      <td>rear wheel drive</td>\n",
              "      <td>2.0</td>\n",
              "      <td>Luxury,High-Performance</td>\n",
              "      <td>Compact</td>\n",
              "      <td>Coupe</td>\n",
              "      <td>28</td>\n",
              "      <td>20</td>\n",
              "      <td>3916</td>\n",
              "      <td>36350</td>\n",
              "    </tr>\n",
              "    <tr>\n",
              "      <th>3</th>\n",
              "      <td>BMW</td>\n",
              "      <td>1 Series</td>\n",
              "      <td>2011</td>\n",
              "      <td>premium unleaded (required)</td>\n",
              "      <td>230.0</td>\n",
              "      <td>6.0</td>\n",
              "      <td>MANUAL</td>\n",
              "      <td>rear wheel drive</td>\n",
              "      <td>2.0</td>\n",
              "      <td>Luxury,Performance</td>\n",
              "      <td>Compact</td>\n",
              "      <td>Coupe</td>\n",
              "      <td>28</td>\n",
              "      <td>18</td>\n",
              "      <td>3916</td>\n",
              "      <td>29450</td>\n",
              "    </tr>\n",
              "    <tr>\n",
              "      <th>4</th>\n",
              "      <td>BMW</td>\n",
              "      <td>1 Series</td>\n",
              "      <td>2011</td>\n",
              "      <td>premium unleaded (required)</td>\n",
              "      <td>230.0</td>\n",
              "      <td>6.0</td>\n",
              "      <td>MANUAL</td>\n",
              "      <td>rear wheel drive</td>\n",
              "      <td>2.0</td>\n",
              "      <td>Luxury</td>\n",
              "      <td>Compact</td>\n",
              "      <td>Convertible</td>\n",
              "      <td>28</td>\n",
              "      <td>18</td>\n",
              "      <td>3916</td>\n",
              "      <td>34500</td>\n",
              "    </tr>\n",
              "  </tbody>\n",
              "</table>\n",
              "</div>"
            ],
            "text/plain": [
              "  Make       Model  Year  ... city mpg  Popularity   MSRP\n",
              "0  BMW  1 Series M  2011  ...       19        3916  46135\n",
              "1  BMW    1 Series  2011  ...       19        3916  40650\n",
              "2  BMW    1 Series  2011  ...       20        3916  36350\n",
              "3  BMW    1 Series  2011  ...       18        3916  29450\n",
              "4  BMW    1 Series  2011  ...       18        3916  34500\n",
              "\n",
              "[5 rows x 16 columns]"
            ]
          },
          "metadata": {
            "tags": []
          },
          "execution_count": 964
        }
      ]
    },
    {
      "cell_type": "code",
      "metadata": {
        "id": "vIU04cVImi_l",
        "colab_type": "code",
        "colab": {
          "base_uri": "https://localhost:8080/",
          "height": 35
        },
        "outputId": "d12b5854-9921-43d4-a6f8-09a25b92fde2"
      },
      "source": [
        "#to see or check the number of rows as well as columns of the table\n",
        "df.shape"
      ],
      "execution_count": 965,
      "outputs": [
        {
          "output_type": "execute_result",
          "data": {
            "text/plain": [
              "(11914, 16)"
            ]
          },
          "metadata": {
            "tags": []
          },
          "execution_count": 965
        }
      ]
    },
    {
      "cell_type": "markdown",
      "metadata": {
        "id": "TLd7-E4qsSNp",
        "colab_type": "text"
      },
      "source": [
        "-> Checking the types of data and basic summary stats"
      ]
    },
    {
      "cell_type": "code",
      "metadata": {
        "id": "Z2-BaUmvm3Un",
        "colab_type": "code",
        "colab": {
          "base_uri": "https://localhost:8080/",
          "height": 426
        },
        "outputId": "794cb4c6-cc8c-48ae-e147-10340f413661"
      },
      "source": [
        "#checking the datatype and information of the table\n",
        "df.info()"
      ],
      "execution_count": 966,
      "outputs": [
        {
          "output_type": "stream",
          "text": [
            "<class 'pandas.core.frame.DataFrame'>\n",
            "RangeIndex: 11914 entries, 0 to 11913\n",
            "Data columns (total 16 columns):\n",
            " #   Column             Non-Null Count  Dtype  \n",
            "---  ------             --------------  -----  \n",
            " 0   Make               11914 non-null  object \n",
            " 1   Model              11914 non-null  object \n",
            " 2   Year               11914 non-null  int64  \n",
            " 3   Engine Fuel Type   11911 non-null  object \n",
            " 4   Engine HP          11845 non-null  float64\n",
            " 5   Engine Cylinders   11884 non-null  float64\n",
            " 6   Transmission Type  11914 non-null  object \n",
            " 7   Driven_Wheels      11914 non-null  object \n",
            " 8   Number of Doors    11908 non-null  float64\n",
            " 9   Market Category    8172 non-null   object \n",
            " 10  Vehicle Size       11914 non-null  object \n",
            " 11  Vehicle Style      11914 non-null  object \n",
            " 12  highway MPG        11914 non-null  int64  \n",
            " 13  city mpg           11914 non-null  int64  \n",
            " 14  Popularity         11914 non-null  int64  \n",
            " 15  MSRP               11914 non-null  int64  \n",
            "dtypes: float64(3), int64(5), object(8)\n",
            "memory usage: 1.5+ MB\n"
          ],
          "name": "stdout"
        }
      ]
    },
    {
      "cell_type": "code",
      "metadata": {
        "id": "dFdGOTvbngx-",
        "colab_type": "code",
        "colab": {
          "base_uri": "https://localhost:8080/",
          "height": 282
        },
        "outputId": "d08224af-9fc9-49ea-a89a-8e14460d5d5a"
      },
      "source": [
        "#statistics part \n",
        "df.describe()"
      ],
      "execution_count": 967,
      "outputs": [
        {
          "output_type": "execute_result",
          "data": {
            "text/html": [
              "<div>\n",
              "<style scoped>\n",
              "    .dataframe tbody tr th:only-of-type {\n",
              "        vertical-align: middle;\n",
              "    }\n",
              "\n",
              "    .dataframe tbody tr th {\n",
              "        vertical-align: top;\n",
              "    }\n",
              "\n",
              "    .dataframe thead th {\n",
              "        text-align: right;\n",
              "    }\n",
              "</style>\n",
              "<table border=\"1\" class=\"dataframe\">\n",
              "  <thead>\n",
              "    <tr style=\"text-align: right;\">\n",
              "      <th></th>\n",
              "      <th>Year</th>\n",
              "      <th>Engine HP</th>\n",
              "      <th>Engine Cylinders</th>\n",
              "      <th>Number of Doors</th>\n",
              "      <th>highway MPG</th>\n",
              "      <th>city mpg</th>\n",
              "      <th>Popularity</th>\n",
              "      <th>MSRP</th>\n",
              "    </tr>\n",
              "  </thead>\n",
              "  <tbody>\n",
              "    <tr>\n",
              "      <th>count</th>\n",
              "      <td>11914.000000</td>\n",
              "      <td>11845.00000</td>\n",
              "      <td>11884.000000</td>\n",
              "      <td>11908.000000</td>\n",
              "      <td>11914.000000</td>\n",
              "      <td>11914.000000</td>\n",
              "      <td>11914.000000</td>\n",
              "      <td>1.191400e+04</td>\n",
              "    </tr>\n",
              "    <tr>\n",
              "      <th>mean</th>\n",
              "      <td>2010.384338</td>\n",
              "      <td>249.38607</td>\n",
              "      <td>5.628829</td>\n",
              "      <td>3.436093</td>\n",
              "      <td>26.637485</td>\n",
              "      <td>19.733255</td>\n",
              "      <td>1554.911197</td>\n",
              "      <td>4.059474e+04</td>\n",
              "    </tr>\n",
              "    <tr>\n",
              "      <th>std</th>\n",
              "      <td>7.579740</td>\n",
              "      <td>109.19187</td>\n",
              "      <td>1.780559</td>\n",
              "      <td>0.881315</td>\n",
              "      <td>8.863001</td>\n",
              "      <td>8.987798</td>\n",
              "      <td>1441.855347</td>\n",
              "      <td>6.010910e+04</td>\n",
              "    </tr>\n",
              "    <tr>\n",
              "      <th>min</th>\n",
              "      <td>1990.000000</td>\n",
              "      <td>55.00000</td>\n",
              "      <td>0.000000</td>\n",
              "      <td>2.000000</td>\n",
              "      <td>12.000000</td>\n",
              "      <td>7.000000</td>\n",
              "      <td>2.000000</td>\n",
              "      <td>2.000000e+03</td>\n",
              "    </tr>\n",
              "    <tr>\n",
              "      <th>25%</th>\n",
              "      <td>2007.000000</td>\n",
              "      <td>170.00000</td>\n",
              "      <td>4.000000</td>\n",
              "      <td>2.000000</td>\n",
              "      <td>22.000000</td>\n",
              "      <td>16.000000</td>\n",
              "      <td>549.000000</td>\n",
              "      <td>2.100000e+04</td>\n",
              "    </tr>\n",
              "    <tr>\n",
              "      <th>50%</th>\n",
              "      <td>2015.000000</td>\n",
              "      <td>227.00000</td>\n",
              "      <td>6.000000</td>\n",
              "      <td>4.000000</td>\n",
              "      <td>26.000000</td>\n",
              "      <td>18.000000</td>\n",
              "      <td>1385.000000</td>\n",
              "      <td>2.999500e+04</td>\n",
              "    </tr>\n",
              "    <tr>\n",
              "      <th>75%</th>\n",
              "      <td>2016.000000</td>\n",
              "      <td>300.00000</td>\n",
              "      <td>6.000000</td>\n",
              "      <td>4.000000</td>\n",
              "      <td>30.000000</td>\n",
              "      <td>22.000000</td>\n",
              "      <td>2009.000000</td>\n",
              "      <td>4.223125e+04</td>\n",
              "    </tr>\n",
              "    <tr>\n",
              "      <th>max</th>\n",
              "      <td>2017.000000</td>\n",
              "      <td>1001.00000</td>\n",
              "      <td>16.000000</td>\n",
              "      <td>4.000000</td>\n",
              "      <td>354.000000</td>\n",
              "      <td>137.000000</td>\n",
              "      <td>5657.000000</td>\n",
              "      <td>2.065902e+06</td>\n",
              "    </tr>\n",
              "  </tbody>\n",
              "</table>\n",
              "</div>"
            ],
            "text/plain": [
              "               Year    Engine HP  ...    Popularity          MSRP\n",
              "count  11914.000000  11845.00000  ...  11914.000000  1.191400e+04\n",
              "mean    2010.384338    249.38607  ...   1554.911197  4.059474e+04\n",
              "std        7.579740    109.19187  ...   1441.855347  6.010910e+04\n",
              "min     1990.000000     55.00000  ...      2.000000  2.000000e+03\n",
              "25%     2007.000000    170.00000  ...    549.000000  2.100000e+04\n",
              "50%     2015.000000    227.00000  ...   1385.000000  2.999500e+04\n",
              "75%     2016.000000    300.00000  ...   2009.000000  4.223125e+04\n",
              "max     2017.000000   1001.00000  ...   5657.000000  2.065902e+06\n",
              "\n",
              "[8 rows x 8 columns]"
            ]
          },
          "metadata": {
            "tags": []
          },
          "execution_count": 967
        }
      ]
    },
    {
      "cell_type": "code",
      "metadata": {
        "id": "JSjfEcQbdHC-",
        "colab_type": "code",
        "colab": {
          "base_uri": "https://localhost:8080/",
          "height": 319
        },
        "outputId": "7c6924c4-8273-4952-f156-4d1864dbc968"
      },
      "source": [
        "#count the total null values in each column\n",
        "df.isnull().sum()"
      ],
      "execution_count": 968,
      "outputs": [
        {
          "output_type": "execute_result",
          "data": {
            "text/plain": [
              "Make                    0\n",
              "Model                   0\n",
              "Year                    0\n",
              "Engine Fuel Type        3\n",
              "Engine HP              69\n",
              "Engine Cylinders       30\n",
              "Transmission Type       0\n",
              "Driven_Wheels           0\n",
              "Number of Doors         6\n",
              "Market Category      3742\n",
              "Vehicle Size            0\n",
              "Vehicle Style           0\n",
              "highway MPG             0\n",
              "city mpg                0\n",
              "Popularity              0\n",
              "MSRP                    0\n",
              "dtype: int64"
            ]
          },
          "metadata": {
            "tags": []
          },
          "execution_count": 968
        }
      ]
    },
    {
      "cell_type": "code",
      "metadata": {
        "id": "EOL2wA684V9v",
        "colab_type": "code",
        "colab": {
          "base_uri": "https://localhost:8080/",
          "height": 35
        },
        "outputId": "7f3ee733-b0e4-46b0-f1a6-9c9029aaa43f"
      },
      "source": [
        "#count the total null values in whole table\n",
        "df.isnull().sum().sum()"
      ],
      "execution_count": 969,
      "outputs": [
        {
          "output_type": "execute_result",
          "data": {
            "text/plain": [
              "3850"
            ]
          },
          "metadata": {
            "tags": []
          },
          "execution_count": 969
        }
      ]
    },
    {
      "cell_type": "code",
      "metadata": {
        "id": "4dRzyV02cBA0",
        "colab_type": "code",
        "colab": {
          "base_uri": "https://localhost:8080/",
          "height": 194
        },
        "outputId": "5bb0b8cf-f865-433f-af6b-14afa7442e1e"
      },
      "source": [
        "#show percentage of missing data\n",
        "df_missing = (df.isnull().sum() / len(df)) * 100\n",
        "df_missing = df_missing.drop(df_missing[df_missing==0].index).sort_values(ascending=False)\n",
        "missing_data = pd.DataFrame({'Missing Percentage' : df_missing})\n",
        "missing_data"
      ],
      "execution_count": 970,
      "outputs": [
        {
          "output_type": "execute_result",
          "data": {
            "text/html": [
              "<div>\n",
              "<style scoped>\n",
              "    .dataframe tbody tr th:only-of-type {\n",
              "        vertical-align: middle;\n",
              "    }\n",
              "\n",
              "    .dataframe tbody tr th {\n",
              "        vertical-align: top;\n",
              "    }\n",
              "\n",
              "    .dataframe thead th {\n",
              "        text-align: right;\n",
              "    }\n",
              "</style>\n",
              "<table border=\"1\" class=\"dataframe\">\n",
              "  <thead>\n",
              "    <tr style=\"text-align: right;\">\n",
              "      <th></th>\n",
              "      <th>Missing Percentage</th>\n",
              "    </tr>\n",
              "  </thead>\n",
              "  <tbody>\n",
              "    <tr>\n",
              "      <th>Market Category</th>\n",
              "      <td>31.408427</td>\n",
              "    </tr>\n",
              "    <tr>\n",
              "      <th>Engine HP</th>\n",
              "      <td>0.579151</td>\n",
              "    </tr>\n",
              "    <tr>\n",
              "      <th>Engine Cylinders</th>\n",
              "      <td>0.251805</td>\n",
              "    </tr>\n",
              "    <tr>\n",
              "      <th>Number of Doors</th>\n",
              "      <td>0.050361</td>\n",
              "    </tr>\n",
              "    <tr>\n",
              "      <th>Engine Fuel Type</th>\n",
              "      <td>0.025180</td>\n",
              "    </tr>\n",
              "  </tbody>\n",
              "</table>\n",
              "</div>"
            ],
            "text/plain": [
              "                  Missing Percentage\n",
              "Market Category            31.408427\n",
              "Engine HP                   0.579151\n",
              "Engine Cylinders            0.251805\n",
              "Number of Doors             0.050361\n",
              "Engine Fuel Type            0.025180"
            ]
          },
          "metadata": {
            "tags": []
          },
          "execution_count": 970
        }
      ]
    },
    {
      "cell_type": "code",
      "metadata": {
        "id": "7AC9vjMkoay9",
        "colab_type": "code",
        "colab": {
          "base_uri": "https://localhost:8080/",
          "height": 177
        },
        "outputId": "ec049273-7d86-402e-d4a8-f34c88d74aee"
      },
      "source": [
        "# all the unique brands of vehicles\n",
        "df.Make.unique()"
      ],
      "execution_count": 971,
      "outputs": [
        {
          "output_type": "execute_result",
          "data": {
            "text/plain": [
              "array(['BMW', 'Audi', 'FIAT', 'Mercedes-Benz', 'Chrysler', 'Nissan',\n",
              "       'Volvo', 'Mazda', 'Mitsubishi', 'Ferrari', 'Alfa Romeo', 'Toyota',\n",
              "       'McLaren', 'Maybach', 'Pontiac', 'Porsche', 'Saab', 'GMC',\n",
              "       'Hyundai', 'Plymouth', 'Honda', 'Oldsmobile', 'Suzuki', 'Ford',\n",
              "       'Cadillac', 'Kia', 'Bentley', 'Chevrolet', 'Dodge', 'Lamborghini',\n",
              "       'Lincoln', 'Subaru', 'Volkswagen', 'Spyker', 'Buick', 'Acura',\n",
              "       'Rolls-Royce', 'Maserati', 'Lexus', 'Aston Martin', 'Land Rover',\n",
              "       'Lotus', 'Infiniti', 'Scion', 'Genesis', 'HUMMER', 'Tesla',\n",
              "       'Bugatti'], dtype=object)"
            ]
          },
          "metadata": {
            "tags": []
          },
          "execution_count": 971
        }
      ]
    },
    {
      "cell_type": "code",
      "metadata": {
        "id": "cwBXZdScoqqq",
        "colab_type": "code",
        "colab": {
          "base_uri": "https://localhost:8080/",
          "height": 888
        },
        "outputId": "6a7b48d3-eb6d-4cef-9bd3-067bb9ff4fd5"
      },
      "source": [
        "#no of vehicles underv all brands\n",
        "df.Make.value_counts()"
      ],
      "execution_count": 972,
      "outputs": [
        {
          "output_type": "execute_result",
          "data": {
            "text/plain": [
              "Chevrolet        1123\n",
              "Ford              881\n",
              "Volkswagen        809\n",
              "Toyota            746\n",
              "Dodge             626\n",
              "Nissan            558\n",
              "GMC               515\n",
              "Honda             449\n",
              "Mazda             423\n",
              "Cadillac          397\n",
              "Mercedes-Benz     353\n",
              "Suzuki            351\n",
              "BMW               334\n",
              "Infiniti          330\n",
              "Audi              328\n",
              "Hyundai           303\n",
              "Volvo             281\n",
              "Subaru            256\n",
              "Acura             252\n",
              "Kia               231\n",
              "Mitsubishi        213\n",
              "Lexus             202\n",
              "Buick             196\n",
              "Chrysler          187\n",
              "Pontiac           186\n",
              "Lincoln           164\n",
              "Oldsmobile        150\n",
              "Land Rover        143\n",
              "Porsche           136\n",
              "Saab              111\n",
              "Aston Martin       93\n",
              "Plymouth           82\n",
              "Bentley            74\n",
              "Ferrari            69\n",
              "FIAT               62\n",
              "Scion              60\n",
              "Maserati           58\n",
              "Lamborghini        52\n",
              "Rolls-Royce        31\n",
              "Lotus              29\n",
              "Tesla              18\n",
              "HUMMER             17\n",
              "Maybach            16\n",
              "Alfa Romeo          5\n",
              "McLaren             5\n",
              "Bugatti             3\n",
              "Spyker              3\n",
              "Genesis             3\n",
              "Name: Make, dtype: int64"
            ]
          },
          "metadata": {
            "tags": []
          },
          "execution_count": 972
        }
      ]
    },
    {
      "cell_type": "markdown",
      "metadata": {
        "id": "vTLEUvw2kDFq",
        "colab_type": "text"
      },
      "source": [
        "**TASK 2**\n",
        "\n",
        "\n",
        "-> Dropping the irrelevant columns\n",
        "\n",
        "In EDA this step is necessary because there are some columns which are not useful and in such case we use dropping."
      ]
    },
    {
      "cell_type": "code",
      "metadata": {
        "id": "5NxF9e6_5r1I",
        "colab_type": "code",
        "colab": {
          "base_uri": "https://localhost:8080/",
          "height": 194
        },
        "outputId": "8787b0a0-bdf7-4f30-f675-2f061c6133de"
      },
      "source": [
        "#to delete the column which are less relevance\n",
        "df.drop(['Number of Doors','Market Category'], axis=1,inplace=True)\n",
        "df.head()"
      ],
      "execution_count": 973,
      "outputs": [
        {
          "output_type": "execute_result",
          "data": {
            "text/html": [
              "<div>\n",
              "<style scoped>\n",
              "    .dataframe tbody tr th:only-of-type {\n",
              "        vertical-align: middle;\n",
              "    }\n",
              "\n",
              "    .dataframe tbody tr th {\n",
              "        vertical-align: top;\n",
              "    }\n",
              "\n",
              "    .dataframe thead th {\n",
              "        text-align: right;\n",
              "    }\n",
              "</style>\n",
              "<table border=\"1\" class=\"dataframe\">\n",
              "  <thead>\n",
              "    <tr style=\"text-align: right;\">\n",
              "      <th></th>\n",
              "      <th>Make</th>\n",
              "      <th>Model</th>\n",
              "      <th>Year</th>\n",
              "      <th>Engine Fuel Type</th>\n",
              "      <th>Engine HP</th>\n",
              "      <th>Engine Cylinders</th>\n",
              "      <th>Transmission Type</th>\n",
              "      <th>Driven_Wheels</th>\n",
              "      <th>Vehicle Size</th>\n",
              "      <th>Vehicle Style</th>\n",
              "      <th>highway MPG</th>\n",
              "      <th>city mpg</th>\n",
              "      <th>Popularity</th>\n",
              "      <th>MSRP</th>\n",
              "    </tr>\n",
              "  </thead>\n",
              "  <tbody>\n",
              "    <tr>\n",
              "      <th>0</th>\n",
              "      <td>BMW</td>\n",
              "      <td>1 Series M</td>\n",
              "      <td>2011</td>\n",
              "      <td>premium unleaded (required)</td>\n",
              "      <td>335.0</td>\n",
              "      <td>6.0</td>\n",
              "      <td>MANUAL</td>\n",
              "      <td>rear wheel drive</td>\n",
              "      <td>Compact</td>\n",
              "      <td>Coupe</td>\n",
              "      <td>26</td>\n",
              "      <td>19</td>\n",
              "      <td>3916</td>\n",
              "      <td>46135</td>\n",
              "    </tr>\n",
              "    <tr>\n",
              "      <th>1</th>\n",
              "      <td>BMW</td>\n",
              "      <td>1 Series</td>\n",
              "      <td>2011</td>\n",
              "      <td>premium unleaded (required)</td>\n",
              "      <td>300.0</td>\n",
              "      <td>6.0</td>\n",
              "      <td>MANUAL</td>\n",
              "      <td>rear wheel drive</td>\n",
              "      <td>Compact</td>\n",
              "      <td>Convertible</td>\n",
              "      <td>28</td>\n",
              "      <td>19</td>\n",
              "      <td>3916</td>\n",
              "      <td>40650</td>\n",
              "    </tr>\n",
              "    <tr>\n",
              "      <th>2</th>\n",
              "      <td>BMW</td>\n",
              "      <td>1 Series</td>\n",
              "      <td>2011</td>\n",
              "      <td>premium unleaded (required)</td>\n",
              "      <td>300.0</td>\n",
              "      <td>6.0</td>\n",
              "      <td>MANUAL</td>\n",
              "      <td>rear wheel drive</td>\n",
              "      <td>Compact</td>\n",
              "      <td>Coupe</td>\n",
              "      <td>28</td>\n",
              "      <td>20</td>\n",
              "      <td>3916</td>\n",
              "      <td>36350</td>\n",
              "    </tr>\n",
              "    <tr>\n",
              "      <th>3</th>\n",
              "      <td>BMW</td>\n",
              "      <td>1 Series</td>\n",
              "      <td>2011</td>\n",
              "      <td>premium unleaded (required)</td>\n",
              "      <td>230.0</td>\n",
              "      <td>6.0</td>\n",
              "      <td>MANUAL</td>\n",
              "      <td>rear wheel drive</td>\n",
              "      <td>Compact</td>\n",
              "      <td>Coupe</td>\n",
              "      <td>28</td>\n",
              "      <td>18</td>\n",
              "      <td>3916</td>\n",
              "      <td>29450</td>\n",
              "    </tr>\n",
              "    <tr>\n",
              "      <th>4</th>\n",
              "      <td>BMW</td>\n",
              "      <td>1 Series</td>\n",
              "      <td>2011</td>\n",
              "      <td>premium unleaded (required)</td>\n",
              "      <td>230.0</td>\n",
              "      <td>6.0</td>\n",
              "      <td>MANUAL</td>\n",
              "      <td>rear wheel drive</td>\n",
              "      <td>Compact</td>\n",
              "      <td>Convertible</td>\n",
              "      <td>28</td>\n",
              "      <td>18</td>\n",
              "      <td>3916</td>\n",
              "      <td>34500</td>\n",
              "    </tr>\n",
              "  </tbody>\n",
              "</table>\n",
              "</div>"
            ],
            "text/plain": [
              "  Make       Model  Year  ... city mpg  Popularity   MSRP\n",
              "0  BMW  1 Series M  2011  ...       19        3916  46135\n",
              "1  BMW    1 Series  2011  ...       19        3916  40650\n",
              "2  BMW    1 Series  2011  ...       20        3916  36350\n",
              "3  BMW    1 Series  2011  ...       18        3916  29450\n",
              "4  BMW    1 Series  2011  ...       18        3916  34500\n",
              "\n",
              "[5 rows x 14 columns]"
            ]
          },
          "metadata": {
            "tags": []
          },
          "execution_count": 973
        }
      ]
    },
    {
      "cell_type": "markdown",
      "metadata": {
        "id": "1bSrLrbBkS1Q",
        "colab_type": "text"
      },
      "source": [
        "**TASK 3**\n",
        "\n",
        "-> Renaming the column\n",
        "\n",
        "sometimes,column names can be confusing or not readable so by changing its name as it improves the readability of the data set."
      ]
    },
    {
      "cell_type": "code",
      "metadata": {
        "id": "-xf5iKPdsR2L",
        "colab_type": "code",
        "colab": {
          "base_uri": "https://localhost:8080/",
          "height": 194
        },
        "outputId": "a791a600-b132-424e-a7ff-2ad096f3a1d9"
      },
      "source": [
        "#to rename the some columns\n",
        "df.rename({'Engine HP': 'HP', 'Engine Cylinders': 'Cylinders', 'Transmission Type': 'Transmission', 'Driven_Wheels': 'Drive Mode','highway MPG':'MPG-H', 'city mpg': 'MPG-C', 'MSRP':'Price'}, axis=1,inplace=True)\n",
        "df.head()"
      ],
      "execution_count": 974,
      "outputs": [
        {
          "output_type": "execute_result",
          "data": {
            "text/html": [
              "<div>\n",
              "<style scoped>\n",
              "    .dataframe tbody tr th:only-of-type {\n",
              "        vertical-align: middle;\n",
              "    }\n",
              "\n",
              "    .dataframe tbody tr th {\n",
              "        vertical-align: top;\n",
              "    }\n",
              "\n",
              "    .dataframe thead th {\n",
              "        text-align: right;\n",
              "    }\n",
              "</style>\n",
              "<table border=\"1\" class=\"dataframe\">\n",
              "  <thead>\n",
              "    <tr style=\"text-align: right;\">\n",
              "      <th></th>\n",
              "      <th>Make</th>\n",
              "      <th>Model</th>\n",
              "      <th>Year</th>\n",
              "      <th>Engine Fuel Type</th>\n",
              "      <th>HP</th>\n",
              "      <th>Cylinders</th>\n",
              "      <th>Transmission</th>\n",
              "      <th>Drive Mode</th>\n",
              "      <th>Vehicle Size</th>\n",
              "      <th>Vehicle Style</th>\n",
              "      <th>MPG-H</th>\n",
              "      <th>MPG-C</th>\n",
              "      <th>Popularity</th>\n",
              "      <th>Price</th>\n",
              "    </tr>\n",
              "  </thead>\n",
              "  <tbody>\n",
              "    <tr>\n",
              "      <th>0</th>\n",
              "      <td>BMW</td>\n",
              "      <td>1 Series M</td>\n",
              "      <td>2011</td>\n",
              "      <td>premium unleaded (required)</td>\n",
              "      <td>335.0</td>\n",
              "      <td>6.0</td>\n",
              "      <td>MANUAL</td>\n",
              "      <td>rear wheel drive</td>\n",
              "      <td>Compact</td>\n",
              "      <td>Coupe</td>\n",
              "      <td>26</td>\n",
              "      <td>19</td>\n",
              "      <td>3916</td>\n",
              "      <td>46135</td>\n",
              "    </tr>\n",
              "    <tr>\n",
              "      <th>1</th>\n",
              "      <td>BMW</td>\n",
              "      <td>1 Series</td>\n",
              "      <td>2011</td>\n",
              "      <td>premium unleaded (required)</td>\n",
              "      <td>300.0</td>\n",
              "      <td>6.0</td>\n",
              "      <td>MANUAL</td>\n",
              "      <td>rear wheel drive</td>\n",
              "      <td>Compact</td>\n",
              "      <td>Convertible</td>\n",
              "      <td>28</td>\n",
              "      <td>19</td>\n",
              "      <td>3916</td>\n",
              "      <td>40650</td>\n",
              "    </tr>\n",
              "    <tr>\n",
              "      <th>2</th>\n",
              "      <td>BMW</td>\n",
              "      <td>1 Series</td>\n",
              "      <td>2011</td>\n",
              "      <td>premium unleaded (required)</td>\n",
              "      <td>300.0</td>\n",
              "      <td>6.0</td>\n",
              "      <td>MANUAL</td>\n",
              "      <td>rear wheel drive</td>\n",
              "      <td>Compact</td>\n",
              "      <td>Coupe</td>\n",
              "      <td>28</td>\n",
              "      <td>20</td>\n",
              "      <td>3916</td>\n",
              "      <td>36350</td>\n",
              "    </tr>\n",
              "    <tr>\n",
              "      <th>3</th>\n",
              "      <td>BMW</td>\n",
              "      <td>1 Series</td>\n",
              "      <td>2011</td>\n",
              "      <td>premium unleaded (required)</td>\n",
              "      <td>230.0</td>\n",
              "      <td>6.0</td>\n",
              "      <td>MANUAL</td>\n",
              "      <td>rear wheel drive</td>\n",
              "      <td>Compact</td>\n",
              "      <td>Coupe</td>\n",
              "      <td>28</td>\n",
              "      <td>18</td>\n",
              "      <td>3916</td>\n",
              "      <td>29450</td>\n",
              "    </tr>\n",
              "    <tr>\n",
              "      <th>4</th>\n",
              "      <td>BMW</td>\n",
              "      <td>1 Series</td>\n",
              "      <td>2011</td>\n",
              "      <td>premium unleaded (required)</td>\n",
              "      <td>230.0</td>\n",
              "      <td>6.0</td>\n",
              "      <td>MANUAL</td>\n",
              "      <td>rear wheel drive</td>\n",
              "      <td>Compact</td>\n",
              "      <td>Convertible</td>\n",
              "      <td>28</td>\n",
              "      <td>18</td>\n",
              "      <td>3916</td>\n",
              "      <td>34500</td>\n",
              "    </tr>\n",
              "  </tbody>\n",
              "</table>\n",
              "</div>"
            ],
            "text/plain": [
              "  Make       Model  Year  ... MPG-C  Popularity  Price\n",
              "0  BMW  1 Series M  2011  ...    19        3916  46135\n",
              "1  BMW    1 Series  2011  ...    19        3916  40650\n",
              "2  BMW    1 Series  2011  ...    20        3916  36350\n",
              "3  BMW    1 Series  2011  ...    18        3916  29450\n",
              "4  BMW    1 Series  2011  ...    18        3916  34500\n",
              "\n",
              "[5 rows x 14 columns]"
            ]
          },
          "metadata": {
            "tags": []
          },
          "execution_count": 974
        }
      ]
    },
    {
      "cell_type": "markdown",
      "metadata": {
        "id": "AUv6OqBokiuT",
        "colab_type": "text"
      },
      "source": [
        "**TASK 4**\n",
        "\n",
        "Dropping the duplicates\n",
        "\n",
        "this is needed because dataset contains more than 10000 rows which have some duplicate data and we have to remove  the duplicates from the data set."
      ]
    },
    {
      "cell_type": "code",
      "metadata": {
        "id": "-7IIxYv8EPnw",
        "colab_type": "code",
        "colab": {
          "base_uri": "https://localhost:8080/",
          "height": 399
        },
        "outputId": "20498a8d-ea87-4ef5-ba7b-5c297c4f2f6e"
      },
      "source": [
        "#remove the duplicate\n",
        "df.drop_duplicates()\n"
      ],
      "execution_count": 975,
      "outputs": [
        {
          "output_type": "execute_result",
          "data": {
            "text/html": [
              "<div>\n",
              "<style scoped>\n",
              "    .dataframe tbody tr th:only-of-type {\n",
              "        vertical-align: middle;\n",
              "    }\n",
              "\n",
              "    .dataframe tbody tr th {\n",
              "        vertical-align: top;\n",
              "    }\n",
              "\n",
              "    .dataframe thead th {\n",
              "        text-align: right;\n",
              "    }\n",
              "</style>\n",
              "<table border=\"1\" class=\"dataframe\">\n",
              "  <thead>\n",
              "    <tr style=\"text-align: right;\">\n",
              "      <th></th>\n",
              "      <th>Make</th>\n",
              "      <th>Model</th>\n",
              "      <th>Year</th>\n",
              "      <th>Engine Fuel Type</th>\n",
              "      <th>HP</th>\n",
              "      <th>Cylinders</th>\n",
              "      <th>Transmission</th>\n",
              "      <th>Drive Mode</th>\n",
              "      <th>Vehicle Size</th>\n",
              "      <th>Vehicle Style</th>\n",
              "      <th>MPG-H</th>\n",
              "      <th>MPG-C</th>\n",
              "      <th>Popularity</th>\n",
              "      <th>Price</th>\n",
              "    </tr>\n",
              "  </thead>\n",
              "  <tbody>\n",
              "    <tr>\n",
              "      <th>0</th>\n",
              "      <td>BMW</td>\n",
              "      <td>1 Series M</td>\n",
              "      <td>2011</td>\n",
              "      <td>premium unleaded (required)</td>\n",
              "      <td>335.0</td>\n",
              "      <td>6.0</td>\n",
              "      <td>MANUAL</td>\n",
              "      <td>rear wheel drive</td>\n",
              "      <td>Compact</td>\n",
              "      <td>Coupe</td>\n",
              "      <td>26</td>\n",
              "      <td>19</td>\n",
              "      <td>3916</td>\n",
              "      <td>46135</td>\n",
              "    </tr>\n",
              "    <tr>\n",
              "      <th>1</th>\n",
              "      <td>BMW</td>\n",
              "      <td>1 Series</td>\n",
              "      <td>2011</td>\n",
              "      <td>premium unleaded (required)</td>\n",
              "      <td>300.0</td>\n",
              "      <td>6.0</td>\n",
              "      <td>MANUAL</td>\n",
              "      <td>rear wheel drive</td>\n",
              "      <td>Compact</td>\n",
              "      <td>Convertible</td>\n",
              "      <td>28</td>\n",
              "      <td>19</td>\n",
              "      <td>3916</td>\n",
              "      <td>40650</td>\n",
              "    </tr>\n",
              "    <tr>\n",
              "      <th>2</th>\n",
              "      <td>BMW</td>\n",
              "      <td>1 Series</td>\n",
              "      <td>2011</td>\n",
              "      <td>premium unleaded (required)</td>\n",
              "      <td>300.0</td>\n",
              "      <td>6.0</td>\n",
              "      <td>MANUAL</td>\n",
              "      <td>rear wheel drive</td>\n",
              "      <td>Compact</td>\n",
              "      <td>Coupe</td>\n",
              "      <td>28</td>\n",
              "      <td>20</td>\n",
              "      <td>3916</td>\n",
              "      <td>36350</td>\n",
              "    </tr>\n",
              "    <tr>\n",
              "      <th>3</th>\n",
              "      <td>BMW</td>\n",
              "      <td>1 Series</td>\n",
              "      <td>2011</td>\n",
              "      <td>premium unleaded (required)</td>\n",
              "      <td>230.0</td>\n",
              "      <td>6.0</td>\n",
              "      <td>MANUAL</td>\n",
              "      <td>rear wheel drive</td>\n",
              "      <td>Compact</td>\n",
              "      <td>Coupe</td>\n",
              "      <td>28</td>\n",
              "      <td>18</td>\n",
              "      <td>3916</td>\n",
              "      <td>29450</td>\n",
              "    </tr>\n",
              "    <tr>\n",
              "      <th>4</th>\n",
              "      <td>BMW</td>\n",
              "      <td>1 Series</td>\n",
              "      <td>2011</td>\n",
              "      <td>premium unleaded (required)</td>\n",
              "      <td>230.0</td>\n",
              "      <td>6.0</td>\n",
              "      <td>MANUAL</td>\n",
              "      <td>rear wheel drive</td>\n",
              "      <td>Compact</td>\n",
              "      <td>Convertible</td>\n",
              "      <td>28</td>\n",
              "      <td>18</td>\n",
              "      <td>3916</td>\n",
              "      <td>34500</td>\n",
              "    </tr>\n",
              "    <tr>\n",
              "      <th>...</th>\n",
              "      <td>...</td>\n",
              "      <td>...</td>\n",
              "      <td>...</td>\n",
              "      <td>...</td>\n",
              "      <td>...</td>\n",
              "      <td>...</td>\n",
              "      <td>...</td>\n",
              "      <td>...</td>\n",
              "      <td>...</td>\n",
              "      <td>...</td>\n",
              "      <td>...</td>\n",
              "      <td>...</td>\n",
              "      <td>...</td>\n",
              "      <td>...</td>\n",
              "    </tr>\n",
              "    <tr>\n",
              "      <th>11909</th>\n",
              "      <td>Acura</td>\n",
              "      <td>ZDX</td>\n",
              "      <td>2012</td>\n",
              "      <td>premium unleaded (required)</td>\n",
              "      <td>300.0</td>\n",
              "      <td>6.0</td>\n",
              "      <td>AUTOMATIC</td>\n",
              "      <td>all wheel drive</td>\n",
              "      <td>Midsize</td>\n",
              "      <td>4dr Hatchback</td>\n",
              "      <td>23</td>\n",
              "      <td>16</td>\n",
              "      <td>204</td>\n",
              "      <td>46120</td>\n",
              "    </tr>\n",
              "    <tr>\n",
              "      <th>11910</th>\n",
              "      <td>Acura</td>\n",
              "      <td>ZDX</td>\n",
              "      <td>2012</td>\n",
              "      <td>premium unleaded (required)</td>\n",
              "      <td>300.0</td>\n",
              "      <td>6.0</td>\n",
              "      <td>AUTOMATIC</td>\n",
              "      <td>all wheel drive</td>\n",
              "      <td>Midsize</td>\n",
              "      <td>4dr Hatchback</td>\n",
              "      <td>23</td>\n",
              "      <td>16</td>\n",
              "      <td>204</td>\n",
              "      <td>56670</td>\n",
              "    </tr>\n",
              "    <tr>\n",
              "      <th>11911</th>\n",
              "      <td>Acura</td>\n",
              "      <td>ZDX</td>\n",
              "      <td>2012</td>\n",
              "      <td>premium unleaded (required)</td>\n",
              "      <td>300.0</td>\n",
              "      <td>6.0</td>\n",
              "      <td>AUTOMATIC</td>\n",
              "      <td>all wheel drive</td>\n",
              "      <td>Midsize</td>\n",
              "      <td>4dr Hatchback</td>\n",
              "      <td>23</td>\n",
              "      <td>16</td>\n",
              "      <td>204</td>\n",
              "      <td>50620</td>\n",
              "    </tr>\n",
              "    <tr>\n",
              "      <th>11912</th>\n",
              "      <td>Acura</td>\n",
              "      <td>ZDX</td>\n",
              "      <td>2013</td>\n",
              "      <td>premium unleaded (recommended)</td>\n",
              "      <td>300.0</td>\n",
              "      <td>6.0</td>\n",
              "      <td>AUTOMATIC</td>\n",
              "      <td>all wheel drive</td>\n",
              "      <td>Midsize</td>\n",
              "      <td>4dr Hatchback</td>\n",
              "      <td>23</td>\n",
              "      <td>16</td>\n",
              "      <td>204</td>\n",
              "      <td>50920</td>\n",
              "    </tr>\n",
              "    <tr>\n",
              "      <th>11913</th>\n",
              "      <td>Lincoln</td>\n",
              "      <td>Zephyr</td>\n",
              "      <td>2006</td>\n",
              "      <td>regular unleaded</td>\n",
              "      <td>221.0</td>\n",
              "      <td>6.0</td>\n",
              "      <td>AUTOMATIC</td>\n",
              "      <td>front wheel drive</td>\n",
              "      <td>Midsize</td>\n",
              "      <td>Sedan</td>\n",
              "      <td>26</td>\n",
              "      <td>17</td>\n",
              "      <td>61</td>\n",
              "      <td>28995</td>\n",
              "    </tr>\n",
              "  </tbody>\n",
              "</table>\n",
              "<p>11193 rows × 14 columns</p>\n",
              "</div>"
            ],
            "text/plain": [
              "          Make       Model  Year  ... MPG-C  Popularity  Price\n",
              "0          BMW  1 Series M  2011  ...    19        3916  46135\n",
              "1          BMW    1 Series  2011  ...    19        3916  40650\n",
              "2          BMW    1 Series  2011  ...    20        3916  36350\n",
              "3          BMW    1 Series  2011  ...    18        3916  29450\n",
              "4          BMW    1 Series  2011  ...    18        3916  34500\n",
              "...        ...         ...   ...  ...   ...         ...    ...\n",
              "11909    Acura         ZDX  2012  ...    16         204  46120\n",
              "11910    Acura         ZDX  2012  ...    16         204  56670\n",
              "11911    Acura         ZDX  2012  ...    16         204  50620\n",
              "11912    Acura         ZDX  2013  ...    16         204  50920\n",
              "11913  Lincoln      Zephyr  2006  ...    17          61  28995\n",
              "\n",
              "[11193 rows x 14 columns]"
            ]
          },
          "metadata": {
            "tags": []
          },
          "execution_count": 975
        }
      ]
    },
    {
      "cell_type": "code",
      "metadata": {
        "id": "PzSRKnQcl79U",
        "colab_type": "code",
        "colab": {
          "base_uri": "https://localhost:8080/",
          "height": 266
        },
        "outputId": "098aa265-1207-4216-b097-acdb4203ba74"
      },
      "source": [
        "#check for duplicates  in the data \n",
        "duplicateROW= df[df.duplicated()]\n",
        "print(duplicateROW)"
      ],
      "execution_count": 976,
      "outputs": [
        {
          "output_type": "stream",
          "text": [
            "         Make     Model  Year  ... MPG-C  Popularity  Price\n",
            "14        BMW  1 Series  2013  ...    19        3916  31500\n",
            "18       Audi       100  1992  ...    17        3105   2000\n",
            "20       Audi       100  1992  ...    17        3105   2000\n",
            "24       Audi       100  1993  ...    17        3105   2000\n",
            "25       Audi       100  1993  ...    17        3105   2000\n",
            "...       ...       ...   ...  ...   ...         ...    ...\n",
            "11481  Suzuki      X-90  1998  ...    22         481   2000\n",
            "11603   Volvo      XC60  2017  ...    20         870  46350\n",
            "11604   Volvo      XC60  2017  ...    23         870  40950\n",
            "11708  Suzuki       XL7  2008  ...    15         481  29149\n",
            "11717  Suzuki       XL7  2008  ...    16         481  27499\n",
            "\n",
            "[721 rows x 14 columns]\n"
          ],
          "name": "stdout"
        }
      ]
    },
    {
      "cell_type": "markdown",
      "metadata": {
        "id": "eUmYgFSY2r5H",
        "colab_type": "text"
      },
      "source": [
        "-> Dropping the null values\n",
        "\n",
        "\n",
        "this is quiet similar with the previous one but it become more efficient as compared to previous one in this replacing the missing values with the median of the average of particular column this will hepl in the fine tuning of the model performance."
      ]
    },
    {
      "cell_type": "code",
      "metadata": {
        "id": "yTn3RMyojjvy",
        "colab_type": "code",
        "colab": {
          "base_uri": "https://localhost:8080/",
          "height": 284
        },
        "outputId": "27d87a59-2f30-424a-d664-aad878826ea3"
      },
      "source": [
        "df.isnull().sum()\n"
      ],
      "execution_count": 977,
      "outputs": [
        {
          "output_type": "execute_result",
          "data": {
            "text/plain": [
              "Make                 0\n",
              "Model                0\n",
              "Year                 0\n",
              "Engine Fuel Type     3\n",
              "HP                  69\n",
              "Cylinders           30\n",
              "Transmission         0\n",
              "Drive Mode           0\n",
              "Vehicle Size         0\n",
              "Vehicle Style        0\n",
              "MPG-H                0\n",
              "MPG-C                0\n",
              "Popularity           0\n",
              "Price                0\n",
              "dtype: int64"
            ]
          },
          "metadata": {
            "tags": []
          },
          "execution_count": 977
        }
      ]
    },
    {
      "cell_type": "code",
      "metadata": {
        "id": "1uAmR7tOug5o",
        "colab_type": "code",
        "colab": {
          "base_uri": "https://localhost:8080/",
          "height": 284
        },
        "outputId": "08f2e115-0653-4c82-a20a-824efe9ec7c5"
      },
      "source": [
        "\n",
        "df.fillna(df.median(), inplace=True)\n",
        "print (df.isnull().sum())"
      ],
      "execution_count": 978,
      "outputs": [
        {
          "output_type": "stream",
          "text": [
            "Make                0\n",
            "Model               0\n",
            "Year                0\n",
            "Engine Fuel Type    3\n",
            "HP                  0\n",
            "Cylinders           0\n",
            "Transmission        0\n",
            "Drive Mode          0\n",
            "Vehicle Size        0\n",
            "Vehicle Style       0\n",
            "MPG-H               0\n",
            "MPG-C               0\n",
            "Popularity          0\n",
            "Price               0\n",
            "dtype: int64\n"
          ],
          "name": "stdout"
        }
      ]
    },
    {
      "cell_type": "code",
      "metadata": {
        "id": "WukkfuzFeH94",
        "colab_type": "code",
        "colab": {
          "base_uri": "https://localhost:8080/",
          "height": 284
        },
        "outputId": "633b0b87-0973-4242-a9f1-a3f7812a195b"
      },
      "source": [
        "# for count the missing values\n",
        "df=df.dropna()\n",
        "df.count()"
      ],
      "execution_count": 979,
      "outputs": [
        {
          "output_type": "execute_result",
          "data": {
            "text/plain": [
              "Make                11911\n",
              "Model               11911\n",
              "Year                11911\n",
              "Engine Fuel Type    11911\n",
              "HP                  11911\n",
              "Cylinders           11911\n",
              "Transmission        11911\n",
              "Drive Mode          11911\n",
              "Vehicle Size        11911\n",
              "Vehicle Style       11911\n",
              "MPG-H               11911\n",
              "MPG-C               11911\n",
              "Popularity          11911\n",
              "Price               11911\n",
              "dtype: int64"
            ]
          },
          "metadata": {
            "tags": []
          },
          "execution_count": 979
        }
      ]
    },
    {
      "cell_type": "code",
      "metadata": {
        "id": "uvDmDW-tuliJ",
        "colab_type": "code",
        "colab": {
          "base_uri": "https://localhost:8080/",
          "height": 284
        },
        "outputId": "74241348-656e-48f3-f12b-16fad352ff56"
      },
      "source": [
        "#check for missing values of rows or columns\n",
        "df = df.fillna(df.mode().iloc[0])\n",
        "df.isnull().sum()"
      ],
      "execution_count": 980,
      "outputs": [
        {
          "output_type": "execute_result",
          "data": {
            "text/plain": [
              "Make                0\n",
              "Model               0\n",
              "Year                0\n",
              "Engine Fuel Type    0\n",
              "HP                  0\n",
              "Cylinders           0\n",
              "Transmission        0\n",
              "Drive Mode          0\n",
              "Vehicle Size        0\n",
              "Vehicle Style       0\n",
              "MPG-H               0\n",
              "MPG-C               0\n",
              "Popularity          0\n",
              "Price               0\n",
              "dtype: int64"
            ]
          },
          "metadata": {
            "tags": []
          },
          "execution_count": 980
        }
      ]
    },
    {
      "cell_type": "markdown",
      "metadata": {
        "id": "4HnenwUpk8MT",
        "colab_type": "text"
      },
      "source": [
        "**TASK 5**\n",
        "\n",
        "-> Detecting Outliers\n",
        "\n",
        "An outlier is an observation that lies an abnormal distance from other values in a random sample from a population. In a sense, this definition leaves it up to the analyst (or a consensus process) to decide what will be considered abnormal. Before abnormal observations can be singled out, it is necessary to characterize normal observations.\n",
        "\n",
        "The box plot for HP,Popularity,Price,Cylinders,MPG-H,MPG-C are given below.\n",
        "In these plots you find out some poitns outside the box which are the outliers.\n"
      ]
    },
    {
      "cell_type": "code",
      "metadata": {
        "id": "aNWWyMyhLRHI",
        "colab_type": "code",
        "colab": {
          "base_uri": "https://localhost:8080/",
          "height": 265
        },
        "outputId": "b0786252-1f6d-4e5b-ce85-e32545165a59"
      },
      "source": [
        "#graph to detect the outliters\n",
        "plt.scatter(df['HP'],df['Cylinders'])\n",
        "plt.show()\n"
      ],
      "execution_count": 981,
      "outputs": [
        {
          "output_type": "display_data",
          "data": {
            "image/png": "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\n",
            "text/plain": [
              "<Figure size 432x288 with 1 Axes>"
            ]
          },
          "metadata": {
            "tags": []
          }
        }
      ]
    },
    {
      "cell_type": "code",
      "metadata": {
        "id": "IGcCttHIy-wH",
        "colab_type": "code",
        "colab": {
          "base_uri": "https://localhost:8080/",
          "height": 297
        },
        "outputId": "8913f21f-3816-4595-f474-9b8d5aa4cfd3"
      },
      "source": [
        "#boxplot for some columns\n",
        "sns.boxplot(x=df['HP'])\n"
      ],
      "execution_count": 982,
      "outputs": [
        {
          "output_type": "execute_result",
          "data": {
            "text/plain": [
              "<matplotlib.axes._subplots.AxesSubplot at 0x7f2c77749710>"
            ]
          },
          "metadata": {
            "tags": []
          },
          "execution_count": 982
        },
        {
          "output_type": "display_data",
          "data": {
            "image/png": "iVBORw0KGgoAAAANSUhEUgAAAV0AAAEGCAYAAADGwUaDAAAABHNCSVQICAgIfAhkiAAAAAlwSFlzAAALEgAACxIB0t1+/AAAADh0RVh0U29mdHdhcmUAbWF0cGxvdGxpYiB2ZXJzaW9uMy4yLjIsIGh0dHA6Ly9tYXRwbG90bGliLm9yZy+WH4yJAAAP3UlEQVR4nO3df1DVdb7H8dfRoxMe1COGkFd2/VGtrqX5R2Wr1YCJFjriinf6eUdy+7U7nYCylsjrXTdta01dnGYvNePaXqud1l91Xe+4N9CECbPS8Jra9Wbuwl3AuQZIiMqBz/2D4UyItCGH90HO8/GX5/uFz/l8v+fbkw9fDuRxzjkBAEz0i/QEACCaEF0AMER0AcAQ0QUAQ0QXAAx5v21nS0uLmpuj780N/ft7ovK420T78UucA46/e8c/YED/Tvd9a3Sbm51qa89c8hNfrvz+QVF53G2i/fglzgHH373jj48f3Ok+bi8AgCGiCwCGiC4AGCK6AGCI6AKAIaILAIaILgAYIroAYIjoAoAhogsAhoguABgiugBgiOgCgCGiCwCGiC4AGCK6AGCI6AKAIaILAIaILgAY+tb/R1pf8rvfvaYTJ45/p4/1evsrGGzudH9tbY0kye8fFpa5XWj06LHKzHyoR8YGEFlRE90TJ47rs8//W82D4ro9Vv8zpyRJf63vPMyXPvZXYR8TQO8RNdGVpOZBcWocf1e3x4k5ukOSwjJWZ2MD6Ju4pwsAhoguABgiugBgiOgCgCGiCwCGiC4AGCK6AGCI6AKAIaILAIaILgAYIroAYIjoAoAhogsAhoguABgiugBgiOgCgCGiCwCGiC4AGCK6AGCI6AKAIaILAIaILgAYIroAYIjoAoAhogsAhoguABgiugBgiOgCgCGiCwCGiC4AGCK6AGCI6AKAIaILAIaILgAYIroAYIjoAoAhogsAhoguABgiugBgiOgCgCGiCwCGeiS6779fpPffL+qJodFHcc0gWnh7YtCiov+UJN1+e0pPDI8+iGsG0YLbCwBgiOgCgCGiCwCGiC4AGCK6AGCI6AKAIaILAIaILgAYIroAYIjoAoAhogsAhoguABgiugBgiOgCgCGiCwCGiC4AGCK6AGCI6AKAIaILAIaILgAYIroAYIjoAoAhogsAhoguABgiugBgiOgCgCGiCwCGiC4AGCK6AGCI6AKAIaILAIaILgAYIroAYIjoAoAhogsAhoguABgiugBgiOgCgCFvpCcAXCgQeFSVlf9r9nxpaXM1b16G1qx5SRkZd+uXv1wa2nfNNT/QsWOfa8yYq/Xll//T7vOSkr6v8vK/6Kabpsrn82nXrsJ2+30+n5YtW6m8vCVqajqvhx/+qYqL31d29jMaNmxYp/PZuvWPevPN32vSpCk6ePCA7r9/kebNW6CSkj36zW9+rezsZ/SjH01XWdkBrVjxL3ruueWaNGly6PO//PK4li3L1fLlv9Lo0WPCdJaiyyeffKLc3J93OLfhwEoXvY5lcCXpT3/6d23a9AcdPXpYq1f/qt2+Y8c+l6QOwZWk8vK/SJL27dvbIbiS1NDQoPz8VWpqOi9Jeu213+ro0cPavPkP3zqfN9/8vSTp4MEDkqSNGzdIkl55ZY0kad26lyVJa9a8KOdaOsw5P3+VGhvPKD9/1bc+Dzr3/PPLL3puw4HoolcJBB6NyPP++c//IeecGhoawjpuRUV56N/OOTnntGvXe6qpqbnox2/d+seLbl+79tcKBoOSpGAwqLfe+rfQXBsavtbBg2WSWle5bc9ZXv5XnTjxZdiOJVqUlR3Q119/Lan9uQ0Xj3POdbazqalZtbVnujzoE088ptrarzR69NhuTS6cTpw4rvqWATpz/YJujxVzdIckqXH8Xd0e60KD/muzBvdriui583r7KxhsNn3OEyeOy++P09/+VmH6vJHg9Xo1Y0aqfvKTxzrsW7hw7iWN6fPFasOGt5Sd/dN2oU9K+p5Wr36ly+P5/YMu6b/9vmDRorvbffFtO7ddER8/uNN9rHQBY8FgUHv27ArrmA0NrSuzbwZXal3tomsu/G6n7dyGS4/8IM3v98vv9+sXv3ihJ4a/JMuW5epg+f9Fehp/lxsQo9FJSRE9d5FY5SxblitJUbPSve225LCO6fPFSpJGjUrqsNJF1/h8vg4r3XBipYte5aqr/iHSU+hx/fr104IFd1903733/tNFt0+bdlu7xz/+8T+2e5yT83NJUiDwVLvtFz7G35ed/Uy7x23nNlyILnqV/Px/jcjzpqbeKY/HI5/PF9ZxR41KCv3b4/HI4/EoOfmOTt8yNn/+wotuz8paIq+39RtTr9ere+55IDRXny829LamMWPGhp4zKel7vGXsEkyePEWxsa2r22+e23Ahuuh1rFe7aWlzlZFxt8aP/2GHVc011/xAkjRmzNUdPi8p6fuSpJtumqrk5Bkd9vt8PgUCT2nAgIGSpIceekzjx/+w01Vum7bV7qRJUyRJ99+/SJL0s59lS5Ief/xJSa0rMo+nX4c5BwJPKSZmEKvcbnjuuX++6LkNhx5590Lb/bneeE83HO846Ml3L8Qc3aFJSVdG7T3d3nLNRPNP7yWOv7vHz7sXAKCXILoAYIjoAoAhogsAhoguABgiugBgiOgCgCGiCwCGiC4AGCK6AGCI6AKAIaILAIaILgAYIroAYIjoAoAhogsAhoguABgiugBgiOgCgCGiCwCGiC4AGCK6AGCI6AKAIaILAIaILgAYIroAYIjoAoAhogsAhoguABgiugBgiOgCgCGiCwCGiC4AGCK6AGCI6AKAIaILAIaILgAYIroAYMjbE4OmpMzsiWHRh3HNIFr0SHRvvz2lJ4ZFH8Y1g2jB7QUAMER0AcAQ0QUAQ0QXAAwRXQAwRHQBwBDRBQBDRBcADBFdADBEdAHAENEFAENEFwAMEV0AMER0AcAQ0QUAQ0QXAAwRXQAwRHQBwBDRBQBDRBcADBFdADBEdAHAENEFAENEFwAMEV0AMER0AcAQ0QUAQ0QXAAwRXQAwRHQBwBDRBQBDRBcADBFdADBEdAHAENEFAENEFwAMEV0AMER0AcAQ0QUAQ0QXAAx5Iz0BS/3PfKWYozvCMM4pSQrLWB3H/krSlWEfF0DvEDXRHT167Hf+WK+3v4LB5k7319b2lyT5/cO6Pa+OruzSXAFcXqImupmZD33nj/X7B6m29kwPzgZAtOKeLgAYIroAYIjoAoAhogsAhoguABgiugBgiOgCgCGiCwCGiC4AGCK6AGCI6AKAIaILAIaILgAYIroAYIjoAoAhogsAhoguABgiugBgiOgCgCGiCwCGPM45F+lJAEC0YKULAIaILgAYIroAYIjoAoAhogsAhoguABgiugBgKOqiW1lZqQceeEB33XWX0tLS9Prrr0uSamtrlZmZqdTUVGVmZqqurk6S5JzT888/r5kzZ2ru3Ln67LPPIjn9sGlublZ6eroeeeQRSVJ5ebkWLlyomTNnKisrS+fPn5cknT9/XllZWZo5c6YWLlyoioqKSE47bE6fPq1AIKDZs2frzjvv1IEDB6LqGtiwYYPS0tI0Z84c5eTk6Ny5c33+GsjNzdUtt9yiOXPmhLZdymu+detWpaamKjU1VVu3bu36RFyUqa6udocOHXLOOVdfX+9SU1PdsWPH3IsvvugKCgqcc84VFBS4l156yTnn3O7du93ixYtdS0uLO3DggMvIyIjY3MNp/fr1Licnxz388MPOOecCgYDbvn27c865pUuXujfeeMM559zGjRvd0qVLnXPObd++3T3xxBORmXCYPf300+7tt992zjl37tw5V1dXFzXXQFVVlUtOTnaNjY3OudbXfvPmzX3+Gti3b587dOiQS0tLC23r6mteU1PjUlJSXE1NjautrXUpKSmutra2S/OIupXuiBEjNHHiRElSbGysxo4dq+rqahUWFio9PV2SlJ6ervfee0+SQts9Ho9uuOEGnT59WidPnozY/MOhqqpKu3fvVkZGhqTWr+p79+7VrFmzJEnz589XYWGhJKmoqEjz58+XJM2aNUulpaVyl/kvMdbX1+ujjz4KHf/AgQM1ZMiQqLoGmpubdfbsWQWDQZ09e1bx8fF9/hq48cYbNXTo0Hbbuvqal5SUaNq0afL7/Ro6dKimTZum4uLiLs0j6qL7TRUVFTpy5IgmT56sU6dOacSIEZKk+Ph4nTp1SpJUXV2txMTE0OckJiaquro6IvMNl5UrV2rJkiXq16/15a+pqdGQIUPk9XoltT/G6upqXXXVVZIkr9erwYMHq6amJjITD5OKigrFxcUpNzdX6enpysvL05kzZ6LmGkhISNCDDz6o5ORkTZ8+XbGxsZo4cWJUXQNtuvqaX7g9ISGhy9dC1Ea3oaFBgUBAzz77rGJjY9vt83g88ng8EZpZz9q1a5fi4uJ03XXXRXoqERMMBnX48GHdc8892rZtm2JiYvTqq6+2+5i+fA3U1dWpsLBQhYWFKi4uVmNjY5dXa32R1WseldFtampSIBDQ3LlzlZqaKkkaPnx46FvGkydPKi4uTlLrV7KqqqrQ51ZVVSkhIcF+0mGyf/9+FRUVKSUlRTk5Odq7d69WrFih06dPKxgMSmp/jAkJCaqsrJTUGqv6+noNGzYsYvMPh8TERCUmJmry5MmSpNmzZ+vw4cNRcw188MEHGjVqlOLi4jRgwAClpqZq//79UXUNtOnqa37h9urq6i5fC1EXXeec8vLyNHbsWGVmZoa2p6SkaNu2bZKkbdu2acaMGe22O+f06aefavDgwaFvRy5HTz75pPbs2aOioiKtXr1aU6dO1csvv6ybb75ZO3fulNT609mUlBRJrcff9hPanTt3aurUqZf9CjA+Pl6JiYk6fvy4JKm0tFTjxo2Lmmtg5MiRKisrU2Njo5xzKi0t1dVXXx1V10Cbrr7m06dPV0lJierq6lRXV6eSkhJNnz69S88ZdX/a8eOPP9Z9992na6+9NnRPMycnR5MmTVJWVpYqKys1cuRIrV27Vn6/X845LV++XMXFxYqJidHKlSt1/fXXR/gowuPDDz/U+vXrVVBQoPLycmVnZ6uurk4TJkzQqlWrNHDgQJ07d05LlizRkSNHNHToUK1Zs0ZJSUmRnnq3HTlyRHl5eWpqalJSUpJeeOEFtbS0RM01kJ+frx07dsjr9WrChAlasWKFqqur+/Q1kJOTo3379qmmpkbDhw/X448/rjvuuKPLr/mmTZtUUFAgSXr00Ue1YMGCLs0j6qILAJEUdbcXACCSiC4AGCK6AGCI6AKAIaILAIaILnq9KVOmtHu8ZcsWLV++XJK0bt063XrrrZo3b57mzJkT+nsBQG/ljfQEgO5atGiRFi9erC+++EL33nuvSktLQ+/BBnobrkz0GePGjZPX6+0zf4wFfRMrXfR6Z8+e1bx580KP6+rqQr+i+k1lZWXyeDyh358HeiOii17viiuu0DvvvBN6vGXLFh06dCj0eMOGDXr33Xfl8/m0du3aPvN3AdA3EV1c9tru6QKXA+7pAoAhogsAhvgrYwBgiJUuABgiugBgiOgCgCGiCwCGiC4AGCK6AGCI6AKAof8HEDQPyVCyebUAAAAASUVORK5CYII=\n",
            "text/plain": [
              "<Figure size 432x288 with 1 Axes>"
            ]
          },
          "metadata": {
            "tags": []
          }
        }
      ]
    },
    {
      "cell_type": "code",
      "metadata": {
        "id": "p3wAY9St1e9Z",
        "colab_type": "code",
        "colab": {
          "base_uri": "https://localhost:8080/",
          "height": 297
        },
        "outputId": "31c55464-c63d-4804-8da9-136614fdeec5"
      },
      "source": [
        "sns.boxplot(x=df['Price'])"
      ],
      "execution_count": 983,
      "outputs": [
        {
          "output_type": "execute_result",
          "data": {
            "text/plain": [
              "<matplotlib.axes._subplots.AxesSubplot at 0x7f2c7789e128>"
            ]
          },
          "metadata": {
            "tags": []
          },
          "execution_count": 983
        },
        {
          "output_type": "display_data",
          "data": {
            "image/png": "iVBORw0KGgoAAAANSUhEUgAAAV0AAAEGCAYAAADGwUaDAAAABHNCSVQICAgIfAhkiAAAAAlwSFlzAAALEgAACxIB0t1+/AAAADh0RVh0U29mdHdhcmUAbWF0cGxvdGxpYiB2ZXJzaW9uMy4yLjIsIGh0dHA6Ly9tYXRwbG90bGliLm9yZy+WH4yJAAAPl0lEQVR4nO3dX2yUdb7H8c/QmYaWQv8YKax0KeXI4qkIRkiQHNpDsRCpBYWSoEIMgfVGKG5FPWiwdDWyHgkG1xu7iRvFBMI/wYIGVwZhLxASU+QAwuFAh7ZAK0vbSArSzsxzLqCNbYEObec70/b9uqJ9/v3mN0/fPDwzHVyO4zgCAJgYEOkBAEB/QnQBwBDRBQBDRBcADBFdADDkvtvCYDCoQKBrb26IiXF1edv+hHkKDfPUOeYoNBbz5PHE3HHZXaMbCDhqaLjWpYMmJcV3edv+hHkKDfPUOeYoNBbzdP/9g++4jNsLAGCI6AKAIaILAIaILgAYIroAYIjoAoAhogsAhoguABgiugBgiOgCgCGiCwCGiC4AGCK6AGCI6AKAIaILAIaILgAYIroAYIjoAoAhogsAhu76f6T1hL///W/y+c6poaFekjRhwmNavPiP4T4sAESlsEfX5zunE6f/V5IjBfxKSkoO9yEBIGqFPbqSFIhPkSTFXLticTgAiFrc0wUAQ0QXAAwRXQAwRHQBwBDRBQBDRBcADBFdADBEdAHAENEFAENEFwAMEV0AMER0AcAQ0QUAQ0QXAAwRXQAwRHQBwBDRBQBDRBcADBFdADBEdAHAENEFAENEFwAMEV0AMER0AcAQ0QUAQ0QXAAwRXQAwRHQBwBDRBQBDRBcADBFdADBEdAHAENEFAENEFwAMEV0AMER0AcAQ0QUAQ0QXAAwRXQAwRHQBwBDRBQBD7nDs9MABr+LjYzVp0n+EtK4kZWfnhGMoABBVwhJdr/cfcrtjQoqu1/sPSUQXQP/A7QUAMER0AcAQ0QUAQ0QXAAwRXQAwRHQBwBDRBQBDRBcADBFdADBEdAHAENEFAENEFwAMEV0AMER0AcAQ0QUAQ0QXAAwRXQAwRHQBwBDRBQBDRBcADBFdADBEdAHAENEFAENEFwAMEV0AMER0AcAQ0QUAQ0QXAAwRXQAwRHQBwBDRBQBDRBcADBFdADBEdAHAENEFAENEFwAMEV0AMER0AcCQO9IDOHnyuCRp/vz8CI+krczMcTpx4n8kSSkpKUpMTNaNG7/q0qWLchxHsbGxSk0drmAwoAsXquVyuTRgQIyCwYCGDk3VlSv/kt/vlyR5PLEaNmy4JKmm5pL8/mYlJyerrq5OHo9HI0akadWqNUpOTlZ9fZ0++OC/VVCwQOvWrdWf//wXpaePCnncLdv/6U+vKzk5uecnBj2uouKciotX3fNz3X4fa9a8oZKStV3eR1f1xXMunI+JK907aAmuJNXV1ami4qwuXrwgx3EkSU1NTaqqOq8LF6olSY7jKBDwy3Ec1dbWtAZXkpqbb65bVXVezc1NchxHdXV1t5Y1q6LinLZv3yxJ2rZts06dOqn16/+i69ev6cMP193TuFu2b9kfot+HH67r0nPdfh/XrjV2ax9d1RfPuXA+pohGN9qubiNp375vVFFRof3798lxHDU2NkqSqqoq5fNVhLSP+vq61u337/9W9fX14RwyekBFxTlVV1dJurfnuqf30VV98ZwL92MKS3QbGhp09uz/qbh4lXy+c3I1X7+5IBiUz3fzn1LFxavCcehey+/3669/XSfHCXZYFurVy7Ztm1u3DwaDferKo69q/9x25Uq1J/bRVX3xnAv3Y+L2QhSpqqpsc1vit98PxT//+V3r9n6/XwcP7u/R8aHntVyhtgj1ue7pfXRVXzznwv2YwhLdpKQkjR79b7du6mfI8cTdOtoApadnqKRkrUpK1obj0L1aWtrv5XZ3fG0zLe33IW0/dep/tm7vdruVlTWtR8eHnjdiRFqbr0N9rnt6H13VF8+5cD8mrnSjhNvt1vLlK+VydXxKCgtXhrSPgoIFrdsPGDBA8+Yt6NExoue1f25Dfa57eh9d1RfPuXA/pohGd+vWskgePqpMnz5Do0aN0rRp0+VyuTRo0CBJN69aQn0LUHJySuv206Y90WfevtOXjRqV0Xqlei/PdU/vo6v64jkX7sfEle4dZGaOa/1zSkqKRo0ard/97gG5XC5JUmxsrNLSRuqBB0ZIklwul2Ji3HK5XEpNHdbmNoHHc3PdtLSR8nhi5XK5lJKScmuZR6NGZbT+bVpQsEBjx/67ior+S3Fx8fd81dKyfV+44ugvCgtXdum5br+P+PhBple5LfriORfOx+RyWt54ehvNzQE1NFy7550WF6+S2x2j1avfUXHxKh2r+pckKebaFWX+4Q9t7ue2vIuhv97jTUqK79Ic9zfMU+eYo9BYzNP99w++4zKudAHAENEFAENEFwAMEV0AMER0AcAQ0QUAQ0QXAAwRXQAwRHQBwBDRBQBDRBcADBFdADBEdAHAENEFAENEFwAMEV0AMER0AcAQ0QUAQ0QXAAwRXQAwRHQBwBDRBQBDRBcADBFdADBEdAHAENEFAENEFwAMEV0AMER0AcAQ0QUAQ0QXAAwRXQAwRHQBwBDRBQBDRBcADBFdADBEdAHAENEFAEPucOw0JydX8fGxIa8LAP1FWKKbnZ2jpKR4NTRcC2ldAOgvuL0AAIaILgAYIroAYIjoAoAhogsAhoguABgiugBgiOgCgCGiCwCGiC4AGCK6AGCI6AKAIaILAIaILgAYIroAYIjoAoAhogsAhoguABgiugBgiOgCgCGiCwCGiC4AGCK6AGCI6AKAIaILAIaILgAYIroAYIjoAoAhogsAhoguABgiugBgiOgCgCGiCwCGiC4AGCK6AGCI6AKAIaILAIaILgAYIroAYIjoAoAht8VBYq7VSXKkgN/icAAQtcIe3fT0DElSQ0N9m68BoD8Ke3QXL/5juA8BAL0G93QBwBDRBQBDRBcADBFdADBEdAHAENEFAENEFwAMEV0AMER0AcAQ0QUAQ0QXAAwRXQAwRHQBwBDRBQBDRBcADBFdADBEdAHAENEFAENEFwAMEV0AMORyHMeJ9CAAoL/gShcADBFdADBEdAHAENEFAENEFwAMEV0AMER0AcBQt6N78OBBzZw5U7m5uSotLe2wvKmpSS+//LJyc3M1f/58VVdXd/eQvVJn87Rjxw5NnjxZc+bM0Zw5c7R169YIjDKyVq1apccff1xPPfXUbZc7jqN33nlHubm5ys/P14kTJ4xHGHmdzdHhw4f12GOPtZ5HH330kfEIo8OlS5e0aNEizZo1S3l5efr00087rBOx88npBr/f70yfPt2prKx0bty44eTn5ztnzpxps87nn3/urF692nEcx9m9e7ezYsWK7hyyVwplnrZv3+6UlJREaITR4ciRI87x48edvLy82y7/7rvvnCVLljjBYNApLy93CgoKjEcYeZ3N0ffff++8+OKLxqOKPrW1tc7x48cdx3Gcq1evOjNmzOjwMxep86lbV7rHjh3TyJEjlZaWptjYWOXl5Wnfvn1t1vF6vXrmmWckSTNnztShQ4fk9LNfggtlniBNmjRJiYmJd1y+b98+Pf3003K5XJowYYJ++eUX/fzzz4YjjLzO5gg3DR06VJmZmZKkhIQEZWRkqLa2ts06kTqfuhXd2tpaDRs2rPXr1NTUDg+strZWw4cPlyS53W4NHjxY9fX13TlsrxPKPEnSN998o/z8fBUWFurSpUuWQ+wV2s/jsGHDbjuP/d3Ro0c1e/ZsLV26VGfOnIn0cCKuurpaP/30k8aPH9/m+5E6n3ghLUpMmzZNXq9XZWVlmjJlil5//fVIDwm9UGZmprxer7788kstWrRIL730UqSHFFGNjY0qLCzUG2+8oYSEhEgPR1I3o5uamqqamprWr2tra5WamtphnZarNr/fr6tXryo5Obk7h+11Qpmn5ORkxcbGSpLmz5/fL18k6kz7eaypqekwj/1dQkKCBg0aJEnKzs6W3+9XXV1dhEcVGc3NzSosLFR+fr5mzJjRYXmkzqduRXfcuHHy+XyqqqpSU1OT9uzZo5ycnDbr5OTk6IsvvpAk7d27V5MnT5bL5erOYXudUObpt/eSvF6vRo8ebT3MqJeTk6OdO3fKcRwdPXpUgwcP1tChQyM9rKhy+fLl1tdMjh07pmAw2O8ucqSb70x48803lZGRocWLF992nUidT+5ubex266233tLSpUsVCAQ0b948Pfjgg9qwYYMefvhhTZ8+XQUFBXr11VeVm5urxMREffDBBz019l4jlHnauHGjvF6vYmJilJiYqLVr10Z62OaKiop05MgR1dfXKysrS8uXL5ff75ckPfvss8rOztaBAweUm5uruLg4vfvuuxEesb3O5mjv3r3atGmTYmJiNHDgQK1fv77fXeRI0g8//KBdu3ZpzJgxmjNnjqSbc3fx4kVJkT2f+DxdADDEC2kAYIjoAoAhogsAhoguABgiugBwS2cfKNTeV1991fqhOq+88kpI23TrLWNAT3rooYc0ZswYBQIBZWRk6L333lNcXFyH9RYsWKDNmzdHYITo6+bOnauFCxeG9BuhPp9PpaWl2rRpkxITE3XlypWQjsGVLqLGwIEDtWvXLu3evVsej6dDWFvej0pwES63+0ChyspKLVmyRHPnztVzzz2ns2fPSpK2bNmi559/vnX9++67L6RjcKWLqDRx4kSdPn1ahw8f1oYNGzRkyBBVVFRo7969evTRR1VeXi5JKi0tVVlZmVwul7KysrRy5UpVVlaqpKRE9fX1GjhwoN5++21+ww9dtnr1apWUlCg9PV0//vijSkpK9Nlnn8nn80m6+S+vYDCoZcuWKSsrq9P9EV1EHb/fr4MHD2rq1KmSpJMnT6qsrExpaWlt1jtw4IC8Xq+2bNmiuLg4NTQ0SLrzDwlwrxobG1VeXq4VK1a0fq+pqUmSFAgEdP78eW3cuFE1NTVauHChysrKNGTIkLvuk+giavz666+tv7I5ceJEFRQUqLy8XOPGjesQXEk6dOiQ5s6d23rfNykp6a4/JMC9chxHQ4YM0a5duzosS01N1fjx4+XxeJSWlqb09HT5fD498sgjd90n0UXUaLmn2158fHzI+7jbDwlwrxISEjRixAh9/fXXevLJJ+U4jk6fPq2xY8fqiSee0J49ezRv3jzV1dXJ5/Pd9uKgPV5IQ681ZcoU7dixQ9evX5ckNTQ0tPkhkW5G+NSpU5EcJnqRoqIiLViwQBUVFcrKytLWrVv1/vvva9u2bZo9e7by8vL07bffSpKmTp2qpKQkzZo1Sy+88IJee+21kD7RjQ+8QdT47QtkLQ4fPqxPPvlEH3/88W3XKy0t1c6dO+XxeJSdna2ioiJVVVVpzZo1unz5svx+v2bNmqVly5aZPhbgToguABji9gIAGCK6AGCI6AKAIaILAIaILgAYIroAYIjoAoCh/we1eSsEzBs7TgAAAABJRU5ErkJggg==\n",
            "text/plain": [
              "<Figure size 432x288 with 1 Axes>"
            ]
          },
          "metadata": {
            "tags": []
          }
        }
      ]
    },
    {
      "cell_type": "code",
      "metadata": {
        "id": "yThAQiQ31j0u",
        "colab_type": "code",
        "colab": {
          "base_uri": "https://localhost:8080/",
          "height": 297
        },
        "outputId": "6eb56dc0-7101-4af6-a01e-6f3c55639318"
      },
      "source": [
        "sns.boxplot(x=df['Popularity'])"
      ],
      "execution_count": 984,
      "outputs": [
        {
          "output_type": "execute_result",
          "data": {
            "text/plain": [
              "<matplotlib.axes._subplots.AxesSubplot at 0x7f2c77889a58>"
            ]
          },
          "metadata": {
            "tags": []
          },
          "execution_count": 984
        },
        {
          "output_type": "display_data",
          "data": {
            "image/png": "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\n",
            "text/plain": [
              "<Figure size 432x288 with 1 Axes>"
            ]
          },
          "metadata": {
            "tags": []
          }
        }
      ]
    },
    {
      "cell_type": "code",
      "metadata": {
        "id": "zM3dUKEB1tVw",
        "colab_type": "code",
        "colab": {
          "base_uri": "https://localhost:8080/",
          "height": 297
        },
        "outputId": "2b76f54a-a159-4d43-af68-afaf82378d27"
      },
      "source": [
        "sns.boxplot(x=df['Cylinders'])\n"
      ],
      "execution_count": 985,
      "outputs": [
        {
          "output_type": "execute_result",
          "data": {
            "text/plain": [
              "<matplotlib.axes._subplots.AxesSubplot at 0x7f2c777e20f0>"
            ]
          },
          "metadata": {
            "tags": []
          },
          "execution_count": 985
        },
        {
          "output_type": "display_data",
          "data": {
            "image/png": "iVBORw0KGgoAAAANSUhEUgAAAV0AAAEGCAYAAADGwUaDAAAABHNCSVQICAgIfAhkiAAAAAlwSFlzAAALEgAACxIB0t1+/AAAADh0RVh0U29mdHdhcmUAbWF0cGxvdGxpYiB2ZXJzaW9uMy4yLjIsIGh0dHA6Ly9tYXRwbG90bGliLm9yZy+WH4yJAAAPu0lEQVR4nO3df0yVdf/H8RdwoFvFO8QEtFq3pmnrB/aHjTaniYDIjyTRNTed05WtVaik3qhL78z5gzltrXJaedtatSxJu6flFDJd/jan42t+c1MyV4CiB7kVEQ6f7x/Ok5T2DTu8rxM8H38JyHVeOHxycTjnIsI55wQAMBHp9QAA6EiILgAYIroAYIjoAoAhogsAhny/98bm5mYFArf24IaoqIhbft+2FK67pPDdxq7WYVfrtMdd0dFRN33b70Y3EHDy+y/d0o3GxXW+5fdtS+G6SwrfbexqHXa1Tnvc1aNH15u+jbsXAMAQ0QUAQ0QXAAwRXQAwRHQBwBDRBQBDRBcADBFdADBEdAHAENEFAENEFwAMEV0AMER0AcAQ0QUAQ0QXAAwRXQAwRHQBwBDRBQBDRBcADP3u70iDnX//+22dPv2DmpoCXk9pwe8/r549k1RU9C+vpwDtAtENExUVJ/Q///u9Ap3jvZ7SQlRdlWpr/V7PANoNohtGAp3jVT8gy+sZLcR++77XE4B2hft0AcAQ0QUAQ0QXAAwRXQAwRHQBwBDRBQBDRBcADBFdADBEdAHAENEFAENEFwAMEV0AMER0AcAQ0QUAQ0QXAAwRXQAwRHQBwBDRBQBDRBcADBFdADBEdAHAENEFAENEFwAMEV0AMER0AcAQ0QUAQ0QXAAwRXQAwRHQBwBDRBQBDRBcADBFdADBEdAHAENEFAENEFwAMEV0AMER0AcAQ0QUAQ0QXAAwRXQAwRHQBwJDP6wF/VV9/XSZJGjo01eMlHdPXX5epc+cYDRo02OspQKsQ3VtUVrZVEtH1SlnZVvl8UUQXfzncvQAAhoguABgiugBgiOgCgCGiCwCGiC4AGCK6AGCI6AKAIaILAIaILgAYIroAYIjoAoAhogsAhoguABgiugBgiOgCgCGiCwCGiC4AGCK6AGCI6AKAIaILAIaILgAYIroAYIjoAoAhogsAhoguABgiugBgiOgCgCGiCwCGiC4AGCK6AGCI6AKAIaILAIaILgAYIroAYIjoAoAhogsAhoguABjytcVBx47NDf75k0/+0xY3AYSlcP3cD9dd4erw4UNatOhfmjt3gR5+ODmkx+ZMFwB+ZcWKpWpubtby5UtCfuyQR/f6r6g3ehlor8L1cz9cd4Wrw4cP6eLFi5Kkixf/qyNHDof0+G1y90JH4Pf75fef0/z5s0NyvIqKE4pojg7JsUKquVn19fUh+zhDpaLihLp37+71DLRDK1YsbfHy8uVLtHbtRyE7PncvAMB1rp3l/vLyf0N6fM50b1FcXJzi4uL0yiuLQ3K8+fNn68iPZ0NyrJCKjFSnv8WE7OMMlfnzZ8vni/J6BtqhLl26tAhvly6xIT0+Z7oAcJ3p0//Z4uXCwqKQHj/k0f31w1F4eAo6inD93A/XXeEqOfkRdenSRdLVs1weMgYAbWz69H8qMjIy5Ge5Uhvdp/vJJ/9RXFxn+f2X2uLwQNgK18/9cN0VrpKTH9GWLVvb5N+LM10AMER0AcAQ0QUAQ0QXAAwRXQAwRHQBwBDRBQBDRBcADBFdADBEdAHAENEFAENEFwAMEV0AMER0AcAQ0QUAQ0QXAAwRXQAwRHQBwBDRBQBDRBcADBFdADBEdAHAENEFAENEFwAMEV0AMER0AcAQ0QUAQ0QXAAwRXQAwRHQBwBDRBQBDRBcADBFdADBEdAHAENEFAENEFwAMEV0AMER0AcCQz+sBf1WpqeleT+jQUlPT1blzjNczgFYjurdo6NBUryd0aEOHpiourrP8/kteTwFahbsXAMAQ0QUAQ0QXAAwRXQAwRHQBwBDRBQBDRBcADBFdADBEdAHAENEFAENEFwAMEV0AMER0AcAQ0QUAQ0QXAAwRXQAwRHQBwBDRBQBDRBcADBFdADBEdAHAENEFAENEFwAMEV0AMER0AcAQ0QUAQ0QXAAwRXQAwRHQBwBDRBQBDRBcADBFdADBEdAHAENEFAENEFwAMEV0AMER0AcAQ0QUAQ0QXAAwRXQAw5PN6AH4RdemcOh3b7PWMlgJNkmK8XgG0G0Q3TPzjH33k80WpqSng9ZQW/P4o9eyZ5PUMoN0gumFi0qRnFBfXWX7/Ja+n/Ea47gL+irhPFwAMEV0AMER0AcAQ0QUAQ0QXAAwRXQAwRHQBwBDRBQBDRBcADBFdADBEdAHAENEFAENEFwAMEV0AMER0AcAQ0QUAQ0QXAAwRXQAwRHQBwBDRBQBDEc455/UIAOgoONMFAENEFwAMEV0AMER0AcAQ0QUAQ0QXAAwRXQAw1CbR3bFjh0aMGKH09HStXr26LW6i1X7++WdNmDBBWVlZys7O1nvvvef1pBYCgYDy8vL07LPPej0l6MKFCyooKFBmZqZGjhypQ4cOeT1JkrR27VplZ2crJydHhYWFamho8GTH7Nmz9dhjjyknJyf4Or/fr0mTJikjI0OTJk1SbW1tWOxaunSpMjMzlZubq+eff14XLlww33WzbdesWbNG/fv317lz58Jm1/vvv6/MzExlZ2eruLg4NDfmQqypqckNHz7cnTp1yjU0NLjc3Fx3/PjxUN9Mq1VVVbny8nLnnHN1dXUuIyMjLHZds2bNGldYWOimTJni9ZSgWbNmuXXr1jnnnGtoaHC1tbUeL3KusrLSDRs2zNXX1zvnnCsoKHDr16/3ZMu+fftceXm5y87ODr5u6dKlbtWqVc4551atWuWKi4vDYtfOnTtdY2Ojc8654uJiT3bdbJtzzv30009u8uTJ7vHHH3c1NTVhsWv37t1u4sSJrqGhwTnn3NmzZ0NyWyE/0z1y5Ijuuece3X333YqJiVF2drZKS0tDfTOtlpCQoAceeECSFBsbqz59+qiqqsrjVVdVVlZq+/btGjNmjNdTgurq6rR///7gppiYGP3973/3eNVVgUBAly9fVlNTky5fvqyEhARPdgwaNEi33357i9eVlpYqLy9PkpSXl6dt27aFxa7BgwfL5/NJkgYOHKjKykrzXdKNt0nS4sWLNXPmTEVERHiw6sa7PvroI02ZMkUxMTGSpO7du4fktkIe3aqqKiUlJQVfTkxMDJu4XXP69Gl99913Sk5O9nqKJGnRokWaOXOmIiPD5y7206dPKz4+XrNnz1ZeXp7mzp2rS5cueT1LiYmJmjx5soYNG6bBgwcrNjZWgwcP9npWUE1NTfCLQI8ePVRTU+Pxot9av369hgwZ4vWMoG3btikhIUEDBgzwekoLFRUVOnDggMaOHavx48fryJEjITlu+PwvN3Lx4kUVFBRozpw5io2N9XqOvvrqK8XHx+vBBx/0ekoLTU1NOnr0qMaNG6cNGzaoU6dOYXH/fG1trUpLS1VaWqqdO3eqvr5eGzdu9HrWDUVERHh25nYzK1euVFRUlJ544gmvp0iS6uvrtWrVKk2dOtXrKb8RCARUW1urdevWadasWZo2bZpcCC5VE/LoJiYmtvjWpaqqSomJiaG+mVvS2NiogoIC5ebmKiMjw+s5kqRvv/1WZWVlSk1NVWFhofbs2aMZM2Z4PUtJSUlKSkoKfjeQmZmpo0ePerxK2rVrl+666y7Fx8crOjpaGRkZYfMDPunqt6DV1dWSpOrqasXHx3u86BclJSXavn27li1bFjZfDE6dOqXTp09r1KhRSk1NVWVlpUaPHq0zZ854PU2JiYlKT09XRESEHn74YUVGRur8+fN/+rghj+5DDz2kiooK/fjjj7py5Yo2bdqk1NTUUN9MqznnNHfuXPXp00eTJk3yek7QSy+9pB07dqisrEzLly9XSkqKli1b5vUs9ejRQ0lJSTpx4oQkaffu3br33ns9XiX16tVLhw8fVn19vZxzYbPrmtTUVG3YsEGStGHDBg0fPtzjRVft2LFD77zzjlauXKlOnTp5PSeof//+2r17t8rKylRWVqakpCSVlJSoR48eXk9TWlqa9u7dK0k6efKkGhsb1a1btz99XN+fPsKvD+jzad68eXr66acVCASUn5+vfv36hfpmWu3gwYPauHGj7rvvPo0aNUqSVFhYqKFDh3q8LHy9/PLLmjFjhhobG3X33Xdr8eLFXk9ScnKyRowYoSeffFI+n0/333+/nnrqKU+2FBYWat++fTp//ryGDBmiF198UVOmTNG0adP06aefqlevXnrttdfCYtfq1at15cqV4AlHcnKyFixYEBbbxo4da77jj+zKz8/XnDlzlJOTo+joaC1ZsiQk3yFwPV0AMNThfpAGAF4iugBgiOgCgCGiCwCGiC4AGCK6aHNnzpzR9OnTlZaWptGjR+uZZ57RyZMnb/h39+7dG7zSWmlpaaufBVdUVKQvv/zyT28G2krIH6cLXM85pxdeeEF5eXlasWKFJOnYsWOqqalR7969f/d9hw8f3uZPLmhqagpeCAawwGcb2tSePXvk8/k0bty44OsGDBigWbNmye/3Ky0tTdLVZ+aNHDlSXbt2Df69kpISlZeXa968eSoqKlJsbKzKy8t15swZzZw5U5mZmXLO6dVXX9U333yjnj17Kjo6Ovj+5eXlWrJkiS5duqRu3bpp8eLFSkhI0IQJEzRgwAAdPHhQOTk56tmzp958801FRkaqa9eu+uCDD+z+gdDhEF20qePHjwcvqXm9MWPGaO3atUpLS1NdXZ0OHTqkpUuX6uDBgzc9VnV1tT788EOdOHFCzz33nDIzM7V161adPHlSmzdv1tmzZ5Wdna38/Hw1NjZq4cKFeuuttxQfH6/NmzdrxYoVwWfVNTY2qqSkRJKUm5urd999V4mJiZ5d3BsdB9GFJx599FG98sorOnfunLZs2aIRI0b8v9/mp6WlKTIyUn379tXZs2clSfv371d2draioqKUmJiolJQUSVefK//9998Hn/ba3Nzc4vn8WVlZwT8/8sgjKioq0siRI5Wenh7qDxVogeiiTfXr109btmy54dtGjRqlzz//XJs2bfpD13W4djHpP8I5p379+unjjz++4duvv+jLggULdPjwYW3fvl35+flav359SC5sAtwIj15Am0pJSdGVK1daxO/YsWM6cOCARo8eHfxddX379r2l4w8aNEhffPGFAoGAqqurg1eF6t27t86dOxe87GNjY6OOHz9+w2OcOnVKycnJmjp1qrp16+bZb1VAx8CZLtpURESE3njjDS1atEhvv/22brvtNt15552aM2eO7rjjDvXp0yf4w7RbkZ6erj179igrK0u9evXSwIEDJV09K3799de1cOFC1dXVKRAIaOLEiTe84l1xcbF++OEHOeeUkpISdr/BAO0LVxmDZ+rr65Wbm6vPPvusxaMWgPaMuxfgiV27dikrK0vjx48nuOhQONMFAEOc6QKAIaILAIaILgAYIroAYIjoAoCh/wPkmTF56YO5XQAAAABJRU5ErkJggg==\n",
            "text/plain": [
              "<Figure size 432x288 with 1 Axes>"
            ]
          },
          "metadata": {
            "tags": []
          }
        }
      ]
    },
    {
      "cell_type": "code",
      "metadata": {
        "id": "uESiwJCj17_M",
        "colab_type": "code",
        "colab": {
          "base_uri": "https://localhost:8080/",
          "height": 297
        },
        "outputId": "a4a5eb02-9d6b-4125-85bc-3247353980e0"
      },
      "source": [
        "sns.boxplot(x=df['MPG-H'])\n"
      ],
      "execution_count": 986,
      "outputs": [
        {
          "output_type": "execute_result",
          "data": {
            "text/plain": [
              "<matplotlib.axes._subplots.AxesSubplot at 0x7f2c777bc2e8>"
            ]
          },
          "metadata": {
            "tags": []
          },
          "execution_count": 986
        },
        {
          "output_type": "display_data",
          "data": {
            "image/png": "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\n",
            "text/plain": [
              "<Figure size 432x288 with 1 Axes>"
            ]
          },
          "metadata": {
            "tags": []
          }
        }
      ]
    },
    {
      "cell_type": "code",
      "metadata": {
        "id": "HOhiHIsA2ExI",
        "colab_type": "code",
        "colab": {
          "base_uri": "https://localhost:8080/",
          "height": 297
        },
        "outputId": "f0656a01-bdd9-4ae3-8379-481f3d38a7ec"
      },
      "source": [
        "sns.boxplot(x=df['MPG-C'])"
      ],
      "execution_count": 987,
      "outputs": [
        {
          "output_type": "execute_result",
          "data": {
            "text/plain": [
              "<matplotlib.axes._subplots.AxesSubplot at 0x7f2c77708780>"
            ]
          },
          "metadata": {
            "tags": []
          },
          "execution_count": 987
        },
        {
          "output_type": "display_data",
          "data": {
            "image/png": "iVBORw0KGgoAAAANSUhEUgAAAV4AAAEGCAYAAAAt9v2AAAAABHNCSVQICAgIfAhkiAAAAAlwSFlzAAALEgAACxIB0t1+/AAAADh0RVh0U29mdHdhcmUAbWF0cGxvdGxpYiB2ZXJzaW9uMy4yLjIsIGh0dHA6Ly9tYXRwbG90bGliLm9yZy+WH4yJAAAU8UlEQVR4nO3df1TW9d3H8dclVxaKDnAomTgzJ5gl7px15s48OkDUIJIKTO8279B+2J2SUrqUMztzqbeurKwdQ5e53du5m4XTs2THJWhQWW3LdJmWHeUIqdiNoCKIgp/7D7q+44ILBPT6XFzr+TjHo9fn+/18v+/Pu+/1ur5+BXIZY4wAANb0CHQBAPBNQ/ACgGUELwBYRvACgGUELwBY5m5v46VLl9TYGHxf9BAS4grKuiVqD4RgrVui9kC5XO3XXBPS7vx2g7ex0ai6urZrlQVQeHivoKxbovZACNa6JWoPlMvVHhXVp935PGoAAMsIXgCwjOAFAMsIXgCwjOAFAMsIXgCwjOAFAMsIXgCwjOAFAMsIXgCwjOAFAMsIXgCwjOAFAMsIXgCwjOAFAMsIXgCwjOAFAMsIXgCwjOAFAMva/X+udSevvrpepaWHvcaqq6skSeHhEV7jbneIGhoavcaGDBmqrKwH/VskAHRA0ARvaelh7f/sczX2inTGQmorJUlHzza2Ne3r/U75tTYA6IygCV5JauwVqbq4FOd16MECSfIa88WzHwB0BzzjBQDLCF4AsIzgBQDLCF4AsIzgBQDLCF4AsIzgBQDLCF4AsIzgBQDLCF4AsIzgBQDLCF4AsIzgBQDLCF4AsIzgBQDLCF4AsIzgBQDLCF4AsIzgBQDLCF4AsIzgBQDLCF4AsIzgBQDLCF4AsIzgBQDLCF4AsIzgBQDLCF4AsIzgBQDLCF4AsIzgBQDLCF4AsIzgBQDLCF4AsIzgBQDLCF4AsIzgBQDLCF4AsIzgBQDLCF4AsIzgBQDL/BK8b79dpLffLvLHobuNb8IaAfiH2x8HLSp6S5I0fnyiPw7fLXwT1gjAP3jUAACWEbwAYBnBCwCWEbwAYBnBCwCWEbwAYBnBCwCWEbwAYBnBCwCWEbwAYBnBCwCWEbwAYBnBCwCWEbwAYBnBCwCWEbwAYBnBCwCWEbwAYBnBCwCWEbwAYBnBCwCWEbwAYBnBCwCWEbwAYBnBCwCWEbwAYBnBCwCWEbwAYBnBCwCWEbwAYBnBCwCWEbwAYBnBCwCWEbwAYBnBCwCWEbwAYBnBCwCWEbwAYBnBe4VmzrxPmZlpzq/c3AV66KH/9Brz/Jo9+35t2PCyMjPT9MILv9KMGfdq7doXlJmZptde+x/Nnj1TyclJrebNm/eIlix5UpmZaZo2LV2ZmWmaO/ehVrUcOXJYM2bcq9LSI87YO+8UKzMzTc8//ytlZqbpl79coszMNG3dmu/s4zl2VtZ/OLXt3btHU6dO0b59ezt0nmDR3ro6M//dd9/RkiVPqqqqytnm6fVbb/2l1baqqlNasuRJlZYebrXN0899+z7u1LyW533vvXec/X3t19W1drVX7dm+vUDJyUl69dV1zjla1u7rOlu06HHnfebheU+9/PKaNtfe2WvWn2uXCN4rdvbsGa/Xn39+UFVVp3zuW1lZqb/8ZZukpjdLXV2tiop2SJLy8zepsvIrn/O+/LJcBw7slyQ1NjZKkk6cON5qvzVrnlFdXa3WrHnGGfv1r5+TJL37brEkad++PZKk3/9+o7OP59g1NWed2p57bqWMuaTVq/+7Q+cJFu2tqzPzX3rpWR08+Kny819ztnl6vX792lbb3njjNR08+KleeKH1PE8/V69e2al5Lc/74ovPOvv72q+ra+1qr9rzyisvS5IKCv7snKNl7b6usy+++FxS0/vMw/OeKix8q821d/aa9efaJYL3inz66ScBPX/zu94jRw6rvLxMklRWdlSlpUf0zjvFamhoaHP+1q35WrLkSZ/bzp079/XvNV6f+r7OEyz27t3T5ro6O7+hoUHGGO3cuUNVVVVevTbGeG2rqjqlnTsLZYxReflRr23N+3nuXE2H53ns3LnTOW9DQ4N27Njucz/bvWrP9u0FMsZ4jZ07V6MdO/7q1L5378etrrNFix73mpObu0AbNrzsNeZr7Z29Zv25dg+XadmBZi5ebFR1dW2nD/rYY4+ouvqUhgwZekXFNVdaelhnL12j2lvvccZCDxZIkuriUtqd2+uf+erT4+JVr6e2tvO9udpef/3PkqT58//LubgkKSZmsI4fP9Zu8HZU795h2rjxf9s8z+rVv5YkhYf36tL1Ysv9909z3lDSv9bV0bpbzpckt9utpKSJKiz8a6tee7YZY1RU9JbXds+2/fv/6dXPjs574IFHJEnTp9/l879xy/06q61eXQ1Tp97ZKnibc7vduvba63TuXI0zFhMzWGVlRzt0/JZrb++a9aUja7/cNRMV1afdGrnj/TfR8s1bVnb0qoSuJK83gK/zBIuWodl8XV2ZLzXdZRYX7/TZa8+2kpJdrbZ7trXsZ0fnNX/tS8v9OutKe9We9kJXaqq95fk6c521XHtnr1l/rt3DfdWPKCk8PFzh4eH6xS9WXLVjPvXUIu0r+78uzTXXhGpITMxVryfQjxqaGzQoxq93vO2dJ1j07t271Z3MlcyXmu6uxo1LaPOOd9y4hDbvXMeNS2jzjvdy85q/buuOt/l+nXWlvWqPy+Xy+x1v87V39pr159o9uOMNYtHR1zt/zs5+wmtbdvYTevTR+e3O/8lP7teIESMve56cnH89B/Z1nmAxf/7PvF43X1dX5ktSjx49dM8903z22rMtI2OaXK4ePrf56l9H5nksXPhkq+2+9uusK+1Ve2bNmu1zvEePkK9/79Hq/NnZT2jYsOFeY8OHx+n221N9HMd77Z29Zv25dg+C9wrcfPMtAT3/iy+uc/58441DNWhQjKSmT/QhQ27U2LHj5Ha3/ZeaKVPu0dKlvv/Vtnfv3l//HqZRo+LbPU+wiI//Xpvr6ux8t9stl8ulhIQJioiI8Oq1y+Xy2hYREamEhCS5XC4NGjTYa1vzfvbuHdbheR4JCQnOed1utyZMmORzP9u9as+kSSlyuVxeY717h2nChIlO7fHxo1tdZytWPOs1Z9myX2nmTO8Q97X2zl6z/ly7B8F7hfr06ev1evjwOEVERPrct1+/fs4n9Nix4xQa2kuJiRMkSffcM1X9+kX5nHfDDYOcO9OQkKa7guZ3ux7Z2U8oNLSX1ye6507sRz8aJ0kaNep7kprudj08xw4L6+PUNn/+z+Ry9fD5ae/rPMGivXV1Zv6cOY8rLu5mrzsrT68ffPCRVtsyMqYpLu5mPfZY63mefubk/KxT81qed+7cx539r+Rut+Va/XHH57nrTUlJc87RsnZf15nnrnf48DhnzPOeSkpKbnPtnb1m/bl2yU9f1fDUU4skyS/PeJt/BUNHv6oh9GCBRsV8+6rXI13dNUrd/ysD2hOstQdr3RK1Bwpf1QAAQYbgBQDLCF4AsIzgBQDLCF4AsIzgBQDLCF4AsIzgBQDLCF4AsIzgBQDLCF4AsIzgBQDLCF4AsIzgBQDLCF4AsIzgBQDLCF4AsIzgBQDLCF4AsIzgBQDLCF4AsIzgBQDLCF4AsIzgBQDLCF4AsIzgBQDLCF4AsIzgBQDLCF4AsIzgBQDLCF4AsIzgBQDLCF4AsIzgBQDLCF4AsIzgBQDLCF4AsIzgBQDL3P44aGJisj8O2618E9YIwD/8Erzjxyf647DdyjdhjQD8g0cNAGAZwQsAlhG8AGAZwQsAlhG8AGAZwQsAlhG8AGAZwQsAlhG8AGAZwQsAlhG8AGAZwQsAlhG8AGAZwQsAlhG8AGAZwQsAlhG8AGAZwQsAlhG8AGAZwQsAlhG8AGAZwQsAlhG8AGAZwQsAlhG8AGAZwQsAlhG8AGAZwQsAlhG8AGAZwQsAlhG8AGAZwQsAlhG8AGAZwQsAlhG8AGAZwQsAlhG8AGAZwQsAlhG8AGAZwQsAlrkDXUBnhNSeUujBgmavKyXJa6ytedK3/VkaAHRY0ATvkCFDW41VV4dIksLDI7zG3e4QNTQ0Nhv5ts/5ABAIQRO8WVkPdnjf8PBeqq6u9WM1ANB1POMFAMsIXgCwjOAFAMsIXgCwjOAFAMsIXgCwjOAFAMsIXgCwjOAFAMsIXgCwjOAFAMsIXgCwjOAFAMsIXgCwjOAFAMsIXgCwjOAFAMsIXgCwjOAFAMsIXgCwzGWMMYEuAgC+SbjjBQDLCF4AsIzgBQDLCF4AsIzgBQDLCF4AsIzgBQDLgjp4jx8/rp/+9KdKSUlRamqqfvvb30qSqqurlZWVpYkTJyorK0unT58OcKVta2xsVHp6uh5++GFJUllZmTIzM5WcnKx58+bpwoULAa7QtzNnzig7O1uTJ0/W7bffrj179gRN3zdu3KjU1FTdcccdysnJUX19fbft+6JFi/TDH/5Qd9xxhzPWVp+NMXr66aeVnJystLQ07d+/P1BlS/Jd+8qVKzV58mSlpaXp0Ucf1ZkzZ5xteXl5Sk5O1qRJk1RSUhKIkiX5rttjw4YNio2N1alTpyRdQc9NEKuoqDCffPKJMcaYs2fPmokTJ5pDhw6ZlStXmry8PGOMMXl5eWbVqlWBLLNdGzZsMDk5Oeahhx4yxhiTnZ1t3nzzTWOMMT//+c/NH/7wh0CW16aFCxeaTZs2GWOMqa+vN6dPnw6Kvp84ccIkJCSYuro6Y0xTv/Pz87tt3z/88EPzySefmNTUVGesrT7v2rXLzJo1y1y6dMns2bPHZGRkBKRmD1+1l5SUmIsXLxpjjFm1apVT+6FDh0xaWpqpr683R48eNUlJSaahoaHb1G2MMceOHTMzZ840P/7xj01lZaUxpus9D+o73v79+2vkyJGSpLCwMA0dOlQVFRUqLCxUenq6JCk9PV07duwIZJltOnHihHbt2qWMjAxJTZ+e77//viZNmiRJuuuuu1RYWBjIEn06e/as/va3vzl19+zZU3379g2avjc2Nur8+fNqaGjQ+fPnFRUV1W37ftttt+lb3/qW11hbffaMu1wujR49WmfOnNHJkyet1+zhq/axY8fK7XZLkkaPHq0TJ05Iaqo9NTVVPXv2VExMjL7zne9o37591muWfNctSStWrNCCBQvkcrmcsa72PKiDt7ny8nIdOHBA8fHxqqysVP/+/SVJUVFRqqysDHB1vi1fvlwLFixQjx5N/xmqqqrUt29f58KMjo5WRUVFIEv0qby8XJGRkVq0aJHS09OVm5ur2traoOj7gAEDNHPmTCUkJGjs2LEKCwvTyJEjg6LvHm31uaKiQtHR0c5+3X0d+fn5GjdunKTWtQ8YMKBb1b5jxw71799fcXFxXuNd7fm/RfCeO3dO2dnZWrx4scLCwry2uVwur0+o7mLnzp2KjIzULbfcEuhSOq2hoUGffvqppk+fri1btig0NFTr1q3z2qe79v306dMqLCxUYWGhSkpKVFdXF9DniVequ/b5ctauXauQkBDdeeedgS7lsurq6pSXl6fHHnvsqh3TfdWOFCAXL15Udna20tLSNHHiRElSv379dPLkSfXv318nT55UZGRkgKts7aOPPlJRUZGKi4tVX1+vmpoaLVu2TGfOnFFDQ4PcbrdOnDihAQMGBLrUVqKjoxUdHa34+HhJ0uTJk7Vu3bqg6Pt7772nQYMGObVNnDhRH330UVD03aOtPg8YMMD5q7ukbruOzZs3a9euXdq4caPzodGy9oqKim5T+9GjR1VeXq4pU6ZIaurr3Xffrddff73LPQ/qO15jjHJzczV06FBlZWU544mJidqyZYskacuWLUpKSgpUiW16/PHHVVxcrKKiIq1evVpjxozRs88+qx/84Afavn27JOlPf/qTEhMTA1xpa1FRUYqOjtbhw4clSbt379ZNN90UFH0fOHCg9u7dq7q6OhljtHv3bg0bNiwo+u7RVp8948YYffzxx+rTp4/zSKK7KC4u1m9+8xutXbtWoaGhznhiYqK2bdumCxcuqKysTKWlpRo1alQAK/2X2NhY7d69W0VFRSoqKlJ0dLQ2b96sqKioLvc8qH8s5N///nfdd999Gj58uPOcNCcnR6NGjdK8efN0/PhxDRw4UM8//7zCw8MDXG3bPvjgA23YsEF5eXkqKyvT/Pnzdfr0aY0YMULPPPOMevbsGegSWzlw4IByc3N18eJFxcTEaMWKFbp06VJQ9H3NmjUqKCiQ2+3WiBEjtGzZMlVUVHTLvufk5OjDDz9UVVWV+vXrp7lz52rChAk++2yM0dKlS1VSUqLQ0FAtX75ct956a7eqfd26dbpw4YJzXcTHx2vp0qWSmh4/5OfnKyQkRIsXL9b48eO7Td2ZmZnO9sTERL3xxhuKjIzscs+DOngBIBgF9aMGAAhGBC8AWEbwAoBlBC8AWEbwAoBlBC8CJjY2Vk888YTzuqGhQWPGjHF+UtvmzZs1ZswYTZkyRSkpKdq0aZOzb3FxsTIyMjR58mRNmTJF8+bN07Fjx3ye56uvvtL8+fM1YcIE3X333XrwwQd15MgR/y4OaEfQf+caglevXr106NAhnT9/Xtddd53efffdVt/1k5KSoiVLlqiyslKpqalKTEzUqVOn9PTTT2vt2rW66aabJDX9sJIvv/xSAwcO9JpvjNGcOXOUnp6u5557TpJ08OBBVVZW6sYbb7SzUKAF7ngRUOPHj9euXbskSdu2bVNqaqrP/fr166fBgwfr2LFjWr9+vR5++GEndCUpKSlJt912W6t577//vtxut6ZPn+6MxcXF6fvf//7VXQjQCQQvAiolJUUFBQWqr6/XZ5995vz8h5bKyspUVlamwYMH64svvnB+HOjlHDp0qMP7ArbwqAEBFRcXp/Lycr355ps+v0W0oKBA//jHP9SzZ08tXbq01bcgV1VV6f7779f58+c1depUzZo1y1bpQJcRvAi4xMRErVq1Sr/73e9UXV3ttc3zjLe5YcOGaf/+/YqLi1NERIS2bt2qV155RbW1tTp+/Lhmz54tSZo2bZq++93vOj/8BuguCF4EXEZGhvr27avY2Fh98MEHl93/gQce0Jw5czR69GjnOW9dXZ0k6frrr9fWrVudfY0xWr16tf74xz/q3nvvldT0j2s1NTU850XAELwIuOjoaM2YMaPD+8fGxio3N1cLFy5UTU2NIiIiNHDgQM2dO7fVvi6XSy+99JKWL1+u9evX69prr9UNN9ygxYsXX80lAJ3CTycDAMv4qgYAsIzgBQDLCF4AsIzgBQDLCF4AsIzgBQDLCF4AsOz/AV1xjcbxHPNjAAAAAElFTkSuQmCC\n",
            "text/plain": [
              "<Figure size 432x288 with 1 Axes>"
            ]
          },
          "metadata": {
            "tags": []
          }
        }
      ]
    },
    {
      "cell_type": "markdown",
      "metadata": {
        "id": "2qtfv0kk07UY",
        "colab_type": "text"
      },
      "source": [
        "\n",
        "->As, we have seen outliers from graphs. Now, we are going to remove them\n",
        "\n",
        "The IQR measure of variability, based on dividing a data set into quartiles called the first, second, and third quartiles; and they are denoted by Q1, Q2, and Q3, respectively. Now, we are using IQR scores to filter out the outliers by keeping only valid values."
      ]
    },
    {
      "cell_type": "code",
      "metadata": {
        "id": "ygEf4HtI59TJ",
        "colab_type": "code",
        "colab": {
          "base_uri": "https://localhost:8080/",
          "height": 159
        },
        "outputId": "ad8526c5-6dd8-4cb4-eef7-816c0a4547d5"
      },
      "source": [
        "# removing of outliers\n",
        "Q1 = df.quantile(0.25)\n",
        "Q3 = df.quantile(0.75)\n",
        "IQR=Q3-Q1\n",
        "print(IQR)"
      ],
      "execution_count": 988,
      "outputs": [
        {
          "output_type": "stream",
          "text": [
            "Year              9.0\n",
            "HP              130.0\n",
            "Cylinders         2.0\n",
            "MPG-H             8.0\n",
            "MPG-C             6.0\n",
            "Popularity     1460.0\n",
            "Price         21227.5\n",
            "dtype: float64\n"
          ],
          "name": "stdout"
        }
      ]
    },
    {
      "cell_type": "code",
      "metadata": {
        "id": "d1gsA3WF6p13",
        "colab_type": "code",
        "colab": {
          "base_uri": "https://localhost:8080/",
          "height": 35
        },
        "outputId": "53aaa70b-1844-436c-92f6-f6e2c19f16eb"
      },
      "source": [
        "df=df[~((df<(Q1 - 1.5 *IQR)) | (df >(Q3+ 1.5 *IQR))).any(axis=1)]\n",
        "df.shape"
      ],
      "execution_count": 989,
      "outputs": [
        {
          "output_type": "execute_result",
          "data": {
            "text/plain": [
              "(9081, 14)"
            ]
          },
          "metadata": {
            "tags": []
          },
          "execution_count": 989
        }
      ]
    },
    {
      "cell_type": "markdown",
      "metadata": {
        "id": "rsKtuV3dlDPQ",
        "colab_type": "text"
      },
      "source": [
        "**TASK 6**\n",
        "\n",
        "-> The most represented Car brands"
      ]
    },
    {
      "cell_type": "code",
      "metadata": {
        "id": "bFKTqw8V7vzS",
        "colab_type": "code",
        "colab": {
          "base_uri": "https://localhost:8080/",
          "height": 336
        },
        "outputId": "3764baca-df73-43e3-adcf-1c226d3598d7"
      },
      "source": [
        "#car percentage on the basis of their brand\n",
        "counts=df['Make'].value_counts()*100/sum(df['Make'].value_counts())\n",
        "\n",
        "# top ten car brands\n",
        "popular_labels=counts.index[:10]\n",
        "\n",
        "\n",
        "#plot\n",
        "plt.figure(figsize=(10,5))\n",
        "plt.barh(popular_labels,width=counts[:10])\n",
        "plt.title('Top 10 Car brands')\n",
        "plt.show()"
      ],
      "execution_count": 990,
      "outputs": [
        {
          "output_type": "display_data",
          "data": {
            "image/png": "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\n",
            "text/plain": [
              "<Figure size 720x360 with 1 Axes>"
            ]
          },
          "metadata": {
            "tags": []
          }
        }
      ]
    },
    {
      "cell_type": "code",
      "metadata": {
        "id": "Jm7FXjuk-v8U",
        "colab_type": "code",
        "colab": {
          "base_uri": "https://localhost:8080/",
          "height": 195
        },
        "outputId": "093d21ed-20bc-49c6-9ff0-096ea288e0d0"
      },
      "source": [
        "#prices with their reaspective Car brands\n",
        "prices = df[['Make' ,'Price']].loc[(df['Make']=='Chevrolet')|\n",
        "       (df['Make']== 'Ford')|\n",
        "       (df['Make']== 'Volkswagen')|\n",
        "       (df['Make']== 'Toyota')|\n",
        "       (df['Make']== 'Dodge')|\n",
        "       (df['Make']== 'Nissan')|\n",
        "       (df['Make']== 'GMC')|\n",
        "       (df['Make']== 'Honda')|\n",
        "       (df['Make']== 'Mazda')].groupby('Make').mean()\n",
        "\n",
        "print(prices)\n"
      ],
      "execution_count": 991,
      "outputs": [
        {
          "output_type": "stream",
          "text": [
            "                   Price\n",
            "Make                    \n",
            "Chevrolet   27657.634906\n",
            "Dodge       25983.345372\n",
            "GMC         32866.520000\n",
            "Honda       27511.286842\n",
            "Mazda       20703.447761\n",
            "Nissan      28148.655706\n",
            "Toyota      29223.393020\n",
            "Volkswagen  28339.133244\n"
          ],
          "name": "stdout"
        }
      ]
    },
    {
      "cell_type": "markdown",
      "metadata": {
        "id": "QBQF8B2XlIf8",
        "colab_type": "text"
      },
      "source": [
        "**TASK 7**\n",
        "\n",
        "->Correlation Matrix:\n",
        "\n",
        "A correlation matrix is a table showing correlation coefficients between variables. Each cell in the table shows the correlation between two variables. A correlation matrix is used to summarize data, as an input into a more advanced analysis, and as a diagnostic for advanced analyses."
      ]
    },
    {
      "cell_type": "code",
      "metadata": {
        "id": "c3DBB0EqC4cj",
        "colab_type": "code",
        "colab": {
          "base_uri": "https://localhost:8080/",
          "height": 252
        },
        "outputId": "e790ac45-9c3d-450d-f7ce-72b7fbae9fe7"
      },
      "source": [
        "#correlation\n",
        "df.corr()"
      ],
      "execution_count": 992,
      "outputs": [
        {
          "output_type": "execute_result",
          "data": {
            "text/html": [
              "<div>\n",
              "<style scoped>\n",
              "    .dataframe tbody tr th:only-of-type {\n",
              "        vertical-align: middle;\n",
              "    }\n",
              "\n",
              "    .dataframe tbody tr th {\n",
              "        vertical-align: top;\n",
              "    }\n",
              "\n",
              "    .dataframe thead th {\n",
              "        text-align: right;\n",
              "    }\n",
              "</style>\n",
              "<table border=\"1\" class=\"dataframe\">\n",
              "  <thead>\n",
              "    <tr style=\"text-align: right;\">\n",
              "      <th></th>\n",
              "      <th>Year</th>\n",
              "      <th>HP</th>\n",
              "      <th>Cylinders</th>\n",
              "      <th>MPG-H</th>\n",
              "      <th>MPG-C</th>\n",
              "      <th>Popularity</th>\n",
              "      <th>Price</th>\n",
              "    </tr>\n",
              "  </thead>\n",
              "  <tbody>\n",
              "    <tr>\n",
              "      <th>Year</th>\n",
              "      <td>1.000000</td>\n",
              "      <td>0.330180</td>\n",
              "      <td>-0.103658</td>\n",
              "      <td>0.362706</td>\n",
              "      <td>0.328816</td>\n",
              "      <td>0.202387</td>\n",
              "      <td>0.606209</td>\n",
              "    </tr>\n",
              "    <tr>\n",
              "      <th>HP</th>\n",
              "      <td>0.330180</td>\n",
              "      <td>1.000000</td>\n",
              "      <td>0.736957</td>\n",
              "      <td>-0.467502</td>\n",
              "      <td>-0.562064</td>\n",
              "      <td>0.109311</td>\n",
              "      <td>0.739162</td>\n",
              "    </tr>\n",
              "    <tr>\n",
              "      <th>Cylinders</th>\n",
              "      <td>-0.103658</td>\n",
              "      <td>0.736957</td>\n",
              "      <td>1.000000</td>\n",
              "      <td>-0.705228</td>\n",
              "      <td>-0.755909</td>\n",
              "      <td>0.029398</td>\n",
              "      <td>0.379249</td>\n",
              "    </tr>\n",
              "    <tr>\n",
              "      <th>MPG-H</th>\n",
              "      <td>0.362706</td>\n",
              "      <td>-0.467502</td>\n",
              "      <td>-0.705228</td>\n",
              "      <td>1.000000</td>\n",
              "      <td>0.938856</td>\n",
              "      <td>0.073377</td>\n",
              "      <td>-0.120884</td>\n",
              "    </tr>\n",
              "    <tr>\n",
              "      <th>MPG-C</th>\n",
              "      <td>0.328816</td>\n",
              "      <td>-0.562064</td>\n",
              "      <td>-0.755909</td>\n",
              "      <td>0.938856</td>\n",
              "      <td>1.000000</td>\n",
              "      <td>0.064656</td>\n",
              "      <td>-0.192624</td>\n",
              "    </tr>\n",
              "    <tr>\n",
              "      <th>Popularity</th>\n",
              "      <td>0.202387</td>\n",
              "      <td>0.109311</td>\n",
              "      <td>0.029398</td>\n",
              "      <td>0.073377</td>\n",
              "      <td>0.064656</td>\n",
              "      <td>1.000000</td>\n",
              "      <td>0.118468</td>\n",
              "    </tr>\n",
              "    <tr>\n",
              "      <th>Price</th>\n",
              "      <td>0.606209</td>\n",
              "      <td>0.739162</td>\n",
              "      <td>0.379249</td>\n",
              "      <td>-0.120884</td>\n",
              "      <td>-0.192624</td>\n",
              "      <td>0.118468</td>\n",
              "      <td>1.000000</td>\n",
              "    </tr>\n",
              "  </tbody>\n",
              "</table>\n",
              "</div>"
            ],
            "text/plain": [
              "                Year        HP  Cylinders  ...     MPG-C  Popularity     Price\n",
              "Year        1.000000  0.330180  -0.103658  ...  0.328816    0.202387  0.606209\n",
              "HP          0.330180  1.000000   0.736957  ... -0.562064    0.109311  0.739162\n",
              "Cylinders  -0.103658  0.736957   1.000000  ... -0.755909    0.029398  0.379249\n",
              "MPG-H       0.362706 -0.467502  -0.705228  ...  0.938856    0.073377 -0.120884\n",
              "MPG-C       0.328816 -0.562064  -0.755909  ...  1.000000    0.064656 -0.192624\n",
              "Popularity  0.202387  0.109311   0.029398  ...  0.064656    1.000000  0.118468\n",
              "Price       0.606209  0.739162   0.379249  ... -0.192624    0.118468  1.000000\n",
              "\n",
              "[7 rows x 7 columns]"
            ]
          },
          "metadata": {
            "tags": []
          },
          "execution_count": 992
        }
      ]
    },
    {
      "cell_type": "code",
      "metadata": {
        "id": "pGjV599RFi4K",
        "colab_type": "code",
        "colab": {
          "base_uri": "https://localhost:8080/",
          "height": 342
        },
        "outputId": "f1993ee0-977b-44b4-86a3-29c3808a42ae"
      },
      "source": [
        "#HEAT Map\n",
        "plt.figure(figsize=(10,5))\n",
        "c=df.corr()\n",
        "sns.heatmap(c,cmap=\"BrBG\",annot=True)"
      ],
      "execution_count": 993,
      "outputs": [
        {
          "output_type": "execute_result",
          "data": {
            "text/plain": [
              "<matplotlib.axes._subplots.AxesSubplot at 0x7f2c77708748>"
            ]
          },
          "metadata": {
            "tags": []
          },
          "execution_count": 993
        },
        {
          "output_type": "display_data",
          "data": {
            "image/png": "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\n",
            "text/plain": [
              "<Figure size 720x360 with 2 Axes>"
            ]
          },
          "metadata": {
            "tags": []
          }
        }
      ]
    },
    {
      "cell_type": "markdown",
      "metadata": {
        "id": "n4LqlhU1_y8o",
        "colab_type": "text"
      },
      "source": [
        "**High Correlation**\n",
        "\n",
        "1.Cylinders and HP\n",
        "2.Cylinders and Price\n",
        "3.Highway MPG and City MPG\n",
        "4.HP and Price\n",
        "\n",
        "The more cylinders there are, the more powerful the car is.\n",
        "\n",
        "\n",
        "**High Anti-correlation**\n",
        "\n",
        " 1.Cylinders and Highway mpg\n",
        "\n",
        " Engine cylinders/ Highway MPG have a strong negative correlation with highway and City MPG because lower MPG figures means higher fuel consumption\n",
        "\n",
        "Above we calculated the correlation on the data using the pandas .corr( ) function, and now we store it in the variable corrmat c. Here, we simply set the figure size of our plot. And then, we pass the corrmat to the seaborn function heatmap( ) which makes the beautiful plot.\n"
      ]
    },
    {
      "cell_type": "markdown",
      "metadata": {
        "id": "JcgrxBuYBITe",
        "colab_type": "text"
      },
      "source": [
        "-> Scatter Plot: It is used to find the correlation between the two variables.\n",
        "  here,also plotted between the HP and Price which are given below"
      ]
    },
    {
      "cell_type": "code",
      "metadata": {
        "id": "W2xtfuljGXNw",
        "colab_type": "code",
        "colab": {
          "base_uri": "https://localhost:8080/",
          "height": 388
        },
        "outputId": "50d8011a-629c-4f81-d4f3-de88eef8a793"
      },
      "source": [
        "#scatter plot\n",
        "fig,ax= plt.subplots(figsize=(10,6))\n",
        "ax.scatter(df['HP'],df['Price'])\n",
        "ax.set_xlabel('HP')\n",
        "ax.set_ylabel('Price')\n",
        "plt.show()"
      ],
      "execution_count": 994,
      "outputs": [
        {
          "output_type": "display_data",
          "data": {
            "image/png": "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\n",
            "text/plain": [
              "<Figure size 720x432 with 1 Axes>"
            ]
          },
          "metadata": {
            "tags": []
          }
        }
      ]
    },
    {
      "cell_type": "markdown",
      "metadata": {
        "id": "BKoSO76kG-Hx",
        "colab_type": "text"
      },
      "source": [
        "**TASK 8**\n",
        "\n",
        " Checking Effect of variables on car price \n",
        " "
      ]
    },
    {
      "cell_type": "code",
      "metadata": {
        "id": "xy6zETxEIzM1",
        "colab_type": "code",
        "colab": {
          "base_uri": "https://localhost:8080/",
          "height": 516
        },
        "outputId": "15ff4e00-98e8-4042-cc34-6aaff3580964"
      },
      "source": [
        "#vehicle style segment of those cars which sold the most\n",
        "df['Vehicle Style'].value_counts().plot.bar(figsize=(10,6))\n",
        "plt.title(\"Cars sold by body\")\n",
        "plt.ylabel('Number of vehicles')\n",
        "plt.xlabel('Body type')"
      ],
      "execution_count": 995,
      "outputs": [
        {
          "output_type": "execute_result",
          "data": {
            "text/plain": [
              "Text(0.5, 0, 'Body type')"
            ]
          },
          "metadata": {
            "tags": []
          },
          "execution_count": 995
        },
        {
          "output_type": "display_data",
          "data": {
            "image/png": "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\n",
            "text/plain": [
              "<Figure size 720x432 with 1 Axes>"
            ]
          },
          "metadata": {
            "tags": []
          }
        }
      ]
    },
    {
      "cell_type": "markdown",
      "metadata": {
        "id": "rvxBKbTkCE9d",
        "colab_type": "text"
      },
      "source": [
        "Here, we can see that Sedan Cars were the most sold cars followed by 4dr SUV"
      ]
    },
    {
      "cell_type": "code",
      "metadata": {
        "id": "DVakXOq5KT8Z",
        "colab_type": "code",
        "colab": {
          "base_uri": "https://localhost:8080/",
          "height": 313
        },
        "outputId": "c5ba2623-85e0-4eb7-a2ae-c54c54121788"
      },
      "source": [
        "#Vehicle Style type and Drive type and analysis\n",
        "sns.countplot(y='Vehicle Style',data=df,hue='Drive Mode')\n",
        "plt.title(\"Vehicle Type v/s Drive mode Type\" )\n",
        "plt.ylabel('Vehicle type')\n",
        "plt.xlabel('Count of veicles')"
      ],
      "execution_count": 996,
      "outputs": [
        {
          "output_type": "execute_result",
          "data": {
            "text/plain": [
              "Text(0.5, 0, 'Count of veicles')"
            ]
          },
          "metadata": {
            "tags": []
          },
          "execution_count": 996
        },
        {
          "output_type": "display_data",
          "data": {
            "image/png": "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\n",
            "text/plain": [
              "<Figure size 432x288 with 1 Axes>"
            ]
          },
          "metadata": {
            "tags": []
          }
        }
      ]
    },
    {
      "cell_type": "markdown",
      "metadata": {
        "id": "Cm0kz6H70J0f",
        "colab_type": "text"
      },
      "source": [
        "**Making a New group \"Price_group\"**"
      ]
    },
    {
      "cell_type": "code",
      "metadata": {
        "id": "64OYfz8BLInH",
        "colab_type": "code",
        "colab": {}
      },
      "source": [
        "#creating a new column 'Price_group 'and assign the values based on car price\n",
        "df['Price_group']=pd.cut(df['Price'],[0,20000,40000,60000,80000,100000,600000],\n",
        "                         labels=['<20k','20-39k','40-59k','<60-79k','80-99k','>100'], include_lowest=True)\n",
        "df['Price_group'] = df['Price_group'].astype(object)\n"
      ],
      "execution_count": 997,
      "outputs": []
    },
    {
      "cell_type": "code",
      "metadata": {
        "id": "YMpFe6tENvhc",
        "colab_type": "code",
        "colab": {
          "base_uri": "https://localhost:8080/",
          "height": 437
        },
        "outputId": "c1305461-93fa-4eea-c996-8f4c003df9cd"
      },
      "source": [
        "#graph between % of vehicles and Price Group\n",
        "(df['Price_group'].value_counts()/len(df)*100).plot.bar(figsize=(10,6))\n",
        "plt.title(\"Price Group bar diagram \")\n",
        "plt.ylabel('% of vehicles')\n",
        "plt.xlabel('Price Group');"
      ],
      "execution_count": 998,
      "outputs": [
        {
          "output_type": "display_data",
          "data": {
            "image/png": "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\n",
            "text/plain": [
              "<Figure size 720x432 with 1 Axes>"
            ]
          },
          "metadata": {
            "tags": []
          }
        }
      ]
    },
    {
      "cell_type": "markdown",
      "metadata": {
        "id": "EQ9kbU2blo-y",
        "colab_type": "text"
      },
      "source": [
        "**TASK 9**\n",
        "\n",
        " Base ML model"
      ]
    },
    {
      "cell_type": "code",
      "metadata": {
        "id": "VBukIGzgO1wO",
        "colab_type": "code",
        "colab": {}
      },
      "source": [
        "x= df[['Popularity', 'Year', 'HP', 'Cylinders', 'MPG-H', 'MPG-C']].values\n",
        "y=df['Price'].values"
      ],
      "execution_count": 999,
      "outputs": []
    },
    {
      "cell_type": "code",
      "metadata": {
        "id": "sNZv1uBbQI7n",
        "colab_type": "code",
        "colab": {}
      },
      "source": [
        "#fit the polynomial regression to the dataset\n",
        "from sklearn.preprocessing import StandardScaler\n",
        "sc_x= StandardScaler()\n",
        "sc_y= StandardScaler()\n",
        "x= sc_x.fit_transform(x)\n",
        "y= sc_y.fit_transform(y.reshape(-1,1))"
      ],
      "execution_count": 1000,
      "outputs": []
    },
    {
      "cell_type": "code",
      "metadata": {
        "id": "vvIzRtApQw0M",
        "colab_type": "code",
        "colab": {}
      },
      "source": [
        "# spliting the dataset into 80% of the data to the training set while 20% of the data to test set using below code.\n",
        "\n",
        "from sklearn.model_selection import train_test_split\n",
        "x_train, x_test, y_train, y_test=train_test_split(x, y, test_size=0.2, random_state=0)"
      ],
      "execution_count": 1001,
      "outputs": []
    },
    {
      "cell_type": "code",
      "metadata": {
        "id": "MtoR3ccLQ6W6",
        "colab_type": "code",
        "colab": {
          "base_uri": "https://localhost:8080/",
          "height": 35
        },
        "outputId": "4a4a3ed9-d657-4105-bac7-4fbc42411c8c"
      },
      "source": [
        "#training model\n",
        "from sklearn.linear_model import LinearRegression\n",
        "regressor= LinearRegression()\n",
        "regressor.fit(x_train, y_train)"
      ],
      "execution_count": 1002,
      "outputs": [
        {
          "output_type": "execute_result",
          "data": {
            "text/plain": [
              "LinearRegression(copy_X=True, fit_intercept=True, n_jobs=None, normalize=False)"
            ]
          },
          "metadata": {
            "tags": []
          },
          "execution_count": 1002
        }
      ]
    },
    {
      "cell_type": "code",
      "metadata": {
        "id": "uqrF6xeMQ_av",
        "colab_type": "code",
        "colab": {
          "base_uri": "https://localhost:8080/",
          "height": 283
        },
        "outputId": "f61e5b2f-60a1-4b9b-b76b-63fe85e9887a"
      },
      "source": [
        "# we will use our test data and see how accurately our algorithm predicts the percentage score. To make predictions on the test data, execute the following script:\n",
        "y_pred= regressor.predict(x_test)\n",
        "plt.scatter(y_test,y_pred)"
      ],
      "execution_count": 1003,
      "outputs": [
        {
          "output_type": "execute_result",
          "data": {
            "text/plain": [
              "<matplotlib.collections.PathCollection at 0x7f2c7721f278>"
            ]
          },
          "metadata": {
            "tags": []
          },
          "execution_count": 1003
        },
        {
          "output_type": "display_data",
          "data": {
            "image/png": "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\n",
            "text/plain": [
              "<Figure size 432x288 with 1 Axes>"
            ]
          },
          "metadata": {
            "tags": []
          }
        }
      ]
    },
    {
      "cell_type": "code",
      "metadata": {
        "id": "NPcSAGa8REzt",
        "colab_type": "code",
        "colab": {
          "base_uri": "https://localhost:8080/",
          "height": 283
        },
        "outputId": "3877d49b-38d7-460f-e055-088c8c9c4823"
      },
      "source": [
        "#Creating distplot with custom  bin size\n",
        "\n",
        "sns.distplot((y_test-y_pred),bins=50)"
      ],
      "execution_count": 1004,
      "outputs": [
        {
          "output_type": "execute_result",
          "data": {
            "text/plain": [
              "<matplotlib.axes._subplots.AxesSubplot at 0x7f2c7721f6a0>"
            ]
          },
          "metadata": {
            "tags": []
          },
          "execution_count": 1004
        },
        {
          "output_type": "display_data",
          "data": {
            "image/png": "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\n",
            "text/plain": [
              "<Figure size 432x288 with 1 Axes>"
            ]
          },
          "metadata": {
            "tags": []
          }
        }
      ]
    },
    {
      "cell_type": "markdown",
      "metadata": {
        "id": "ZY-5hzRKigmw",
        "colab_type": "text"
      },
      "source": [
        ""
      ]
    },
    {
      "cell_type": "code",
      "metadata": {
        "id": "EfGONdXXRJPw",
        "colab_type": "code",
        "colab": {
          "base_uri": "https://localhost:8080/",
          "height": 70
        },
        "outputId": "e422fed5-86ce-407a-d2b8-a6221eaf21a9"
      },
      "source": [
        "\n",
        "# sklearn.metrics implements several loss, score, and utility functions to measure classification performance \n",
        "from sklearn import metrics\n",
        "\n",
        "#The final step is to evaluate the performance of the algorithm.So, do this by finding the values for MAE, MSE, and RMSE. Execute the following script:\n",
        "print('Mean Absolute Error:', metrics.mean_absolute_error(y_test,y_pred))\n",
        "print('Root Mean Squared Error:', np.sqrt(metrics.mean_squared_error(y_test, y_pred)))\n",
        "print('R2 Score:', metrics.r2_score(y_test, y_pred))"
      ],
      "execution_count": 1005,
      "outputs": [
        {
          "output_type": "stream",
          "text": [
            "Mean Absolute Error: 0.41712611351514006\n",
            "Root Mean Squared Error: 0.5480308494200454\n",
            "R2 Score: 0.6887750950110387\n"
          ],
          "name": "stdout"
        }
      ]
    },
    {
      "cell_type": "markdown",
      "metadata": {
        "id": "VKodEo_mlvjc",
        "colab_type": "text"
      },
      "source": [
        "**TASK 10**\n",
        "\n",
        "->Spot checking algorithms"
      ]
    },
    {
      "cell_type": "code",
      "metadata": {
        "id": "Wdju4976Wlg_",
        "colab_type": "code",
        "colab": {
          "base_uri": "https://localhost:8080/",
          "height": 35
        },
        "outputId": "b86c02e3-a3ef-4aa7-ddc9-24cd6e283bed"
      },
      "source": [
        "\n",
        "\n",
        "from sklearn.preprocessing import PolynomialFeatures\n",
        "\n",
        "#fit the polynomial regression to the datase\n",
        "poly_reg = PolynomialFeatures(degree=4)\n",
        "x_poly= poly_reg.fit_transform(x_train)\n",
        "poly_reg.fit(x_poly, y_train)\n",
        "lin_reg_2= LinearRegression()\n",
        "lin_reg_2.fit(x_poly, y_train)"
      ],
      "execution_count": 1006,
      "outputs": [
        {
          "output_type": "execute_result",
          "data": {
            "text/plain": [
              "LinearRegression(copy_X=True, fit_intercept=True, n_jobs=None, normalize=False)"
            ]
          },
          "metadata": {
            "tags": []
          },
          "execution_count": 1006
        }
      ]
    },
    {
      "cell_type": "code",
      "metadata": {
        "id": "LpsTXxyZWt6s",
        "colab_type": "code",
        "colab": {
          "base_uri": "https://localhost:8080/",
          "height": 286
        },
        "outputId": "6a873843-c1c2-4807-ca92-f60cf6504f34"
      },
      "source": [
        "#Predicting the test set result\n",
        "y_pred=lin_reg_2.predict(poly_reg.fit_transform(x_test))\n",
        "plt.scatter(y_test,y_pred)"
      ],
      "execution_count": 1007,
      "outputs": [
        {
          "output_type": "execute_result",
          "data": {
            "text/plain": [
              "<matplotlib.collections.PathCollection at 0x7f2c7a276860>"
            ]
          },
          "metadata": {
            "tags": []
          },
          "execution_count": 1007
        },
        {
          "output_type": "display_data",
          "data": {
            "image/png": "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\n",
            "text/plain": [
              "<Figure size 432x288 with 1 Axes>"
            ]
          },
          "metadata": {
            "tags": []
          }
        }
      ]
    },
    {
      "cell_type": "code",
      "metadata": {
        "id": "obZfR4o8W21_",
        "colab_type": "code",
        "colab": {
          "base_uri": "https://localhost:8080/",
          "height": 283
        },
        "outputId": "db78e2d1-447b-4474-d95c-23db3d97df87"
      },
      "source": [
        "#Creating distplot with custom  bin size\n",
        "sns.distplot((y_test-y_pred),bins=50)"
      ],
      "execution_count": 1008,
      "outputs": [
        {
          "output_type": "execute_result",
          "data": {
            "text/plain": [
              "<matplotlib.axes._subplots.AxesSubplot at 0x7f2c79b3fe10>"
            ]
          },
          "metadata": {
            "tags": []
          },
          "execution_count": 1008
        },
        {
          "output_type": "display_data",
          "data": {
            "image/png": "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\n",
            "text/plain": [
              "<Figure size 432x288 with 1 Axes>"
            ]
          },
          "metadata": {
            "tags": []
          }
        }
      ]
    },
    {
      "cell_type": "code",
      "metadata": {
        "id": "kpCLTnGTW7Yy",
        "colab_type": "code",
        "colab": {
          "base_uri": "https://localhost:8080/",
          "height": 70
        },
        "outputId": "460c5b37-4b6c-47d2-dd77-a601d3e7985e"
      },
      "source": [
        "#Checking the performance of above algorithm over matrices MAE, MSE, and RMSE\n",
        "print('Mean Absolute Error:', metrics.mean_absolute_error(y_test,y_pred))\n",
        "print('Root Mean Squared Error:', np.sqrt(metrics.mean_squared_error(y_test, y_pred)))\n",
        "print('R2 Score:', metrics.r2_score(y_test, y_pred))\n"
      ],
      "execution_count": 1009,
      "outputs": [
        {
          "output_type": "stream",
          "text": [
            "Mean Absolute Error: 0.31938914331363755\n",
            "Root Mean Squared Error: 0.44056573990888637\n",
            "R2 Score: 0.7988658687392769\n"
          ],
          "name": "stdout"
        }
      ]
    },
    {
      "cell_type": "code",
      "metadata": {
        "id": "ExxvQEO_XGpl",
        "colab_type": "code",
        "colab": {
          "base_uri": "https://localhost:8080/",
          "height": 108
        },
        "outputId": "ff018cc9-68cb-445d-e2da-d3ce4afcf35f"
      },
      "source": [
        "#fitting SVR to data set\n",
        "from sklearn.svm import SVR\n",
        "regressor = SVR(kernel='rbf')\n",
        "regressor.fit(x_train, y_train)"
      ],
      "execution_count": 1010,
      "outputs": [
        {
          "output_type": "stream",
          "text": [
            "/usr/local/lib/python3.6/dist-packages/sklearn/utils/validation.py:760: DataConversionWarning: A column-vector y was passed when a 1d array was expected. Please change the shape of y to (n_samples, ), for example using ravel().\n",
            "  y = column_or_1d(y, warn=True)\n"
          ],
          "name": "stderr"
        },
        {
          "output_type": "execute_result",
          "data": {
            "text/plain": [
              "SVR(C=1.0, cache_size=200, coef0=0.0, degree=3, epsilon=0.1, gamma='scale',\n",
              "    kernel='rbf', max_iter=-1, shrinking=True, tol=0.001, verbose=False)"
            ]
          },
          "metadata": {
            "tags": []
          },
          "execution_count": 1010
        }
      ]
    },
    {
      "cell_type": "code",
      "metadata": {
        "id": "7DteNzjgXMcS",
        "colab_type": "code",
        "colab": {
          "base_uri": "https://localhost:8080/",
          "height": 283
        },
        "outputId": "4600bdf3-4ca5-4be9-c90c-bc0646c417e2"
      },
      "source": [
        "#Predicting the test set result\n",
        "y_pred=regressor.predict(x_test)\n",
        "plt.scatter(y_test,y_pred)"
      ],
      "execution_count": 1011,
      "outputs": [
        {
          "output_type": "execute_result",
          "data": {
            "text/plain": [
              "<matplotlib.collections.PathCollection at 0x7f2c7760eb38>"
            ]
          },
          "metadata": {
            "tags": []
          },
          "execution_count": 1011
        },
        {
          "output_type": "display_data",
          "data": {
            "image/png": "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\n",
            "text/plain": [
              "<Figure size 432x288 with 1 Axes>"
            ]
          },
          "metadata": {
            "tags": []
          }
        }
      ]
    },
    {
      "cell_type": "code",
      "metadata": {
        "id": "EHQl9avTXRhu",
        "colab_type": "code",
        "colab": {
          "base_uri": "https://localhost:8080/",
          "height": 286
        },
        "outputId": "f889f3b3-d590-440d-f057-acba38d78787"
      },
      "source": [
        "#Creating distplot with custom  bin size\n",
        "sns.distplot((y_test-y_pred),bins=50)"
      ],
      "execution_count": 1012,
      "outputs": [
        {
          "output_type": "execute_result",
          "data": {
            "text/plain": [
              "<matplotlib.axes._subplots.AxesSubplot at 0x7f2c7774fb70>"
            ]
          },
          "metadata": {
            "tags": []
          },
          "execution_count": 1012
        },
        {
          "output_type": "display_data",
          "data": {
            "image/png": "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\n",
            "text/plain": [
              "<Figure size 432x288 with 1 Axes>"
            ]
          },
          "metadata": {
            "tags": []
          }
        }
      ]
    },
    {
      "cell_type": "code",
      "metadata": {
        "id": "4fYPlVQyXTl6",
        "colab_type": "code",
        "colab": {
          "base_uri": "https://localhost:8080/",
          "height": 70
        },
        "outputId": "8537a4d8-5fb2-4b16-bc2a-4e3ded59598d"
      },
      "source": [
        "#Checking the performance of above algorithm over matrices MAE, MSE, and RMSE\n",
        "print('Mean Absolute Error:', metrics.mean_absolute_error(y_test,y_pred))\n",
        "print('Root Mean Squared Error:', np.sqrt(metrics.mean_squared_error(y_test, y_pred)))\n",
        "print('R2 Score:', metrics.r2_score(y_test, y_pred))"
      ],
      "execution_count": 1013,
      "outputs": [
        {
          "output_type": "stream",
          "text": [
            "Mean Absolute Error: 0.3024667191372598\n",
            "Root Mean Squared Error: 0.43092923277395473\n",
            "R2 Score: 0.80756846556696\n"
          ],
          "name": "stdout"
        }
      ]
    },
    {
      "cell_type": "code",
      "metadata": {
        "id": "krIe3jlqXhiy",
        "colab_type": "code",
        "colab": {
          "base_uri": "https://localhost:8080/",
          "height": 197
        },
        "outputId": "59d209fc-9752-4f71-91cb-84059aa39505"
      },
      "source": [
        "#Fitting Random Forest Regressor to data set\n",
        "from sklearn.ensemble import RandomForestRegressor\n",
        "regressor = RandomForestRegressor(n_estimators=300, random_state=0)\n",
        "regressor.fit(x_train, y_train)"
      ],
      "execution_count": 1014,
      "outputs": [
        {
          "output_type": "stream",
          "text": [
            "/usr/local/lib/python3.6/dist-packages/ipykernel_launcher.py:4: DataConversionWarning: A column-vector y was passed when a 1d array was expected. Please change the shape of y to (n_samples,), for example using ravel().\n",
            "  after removing the cwd from sys.path.\n"
          ],
          "name": "stderr"
        },
        {
          "output_type": "execute_result",
          "data": {
            "text/plain": [
              "RandomForestRegressor(bootstrap=True, ccp_alpha=0.0, criterion='mse',\n",
              "                      max_depth=None, max_features='auto', max_leaf_nodes=None,\n",
              "                      max_samples=None, min_impurity_decrease=0.0,\n",
              "                      min_impurity_split=None, min_samples_leaf=1,\n",
              "                      min_samples_split=2, min_weight_fraction_leaf=0.0,\n",
              "                      n_estimators=300, n_jobs=None, oob_score=False,\n",
              "                      random_state=0, verbose=0, warm_start=False)"
            ]
          },
          "metadata": {
            "tags": []
          },
          "execution_count": 1014
        }
      ]
    },
    {
      "cell_type": "code",
      "metadata": {
        "id": "x_0W96TxXlC7",
        "colab_type": "code",
        "colab": {
          "base_uri": "https://localhost:8080/",
          "height": 283
        },
        "outputId": "7de9b53f-f17f-46c7-9723-d13361b1b0a0"
      },
      "source": [
        "#Predicting the test set result\n",
        "y_pred=regressor.predict(x_test)\n",
        "plt.scatter(y_test,y_pred)"
      ],
      "execution_count": 1015,
      "outputs": [
        {
          "output_type": "execute_result",
          "data": {
            "text/plain": [
              "<matplotlib.collections.PathCollection at 0x7f2c783592e8>"
            ]
          },
          "metadata": {
            "tags": []
          },
          "execution_count": 1015
        },
        {
          "output_type": "display_data",
          "data": {
            "image/png": "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\n",
            "text/plain": [
              "<Figure size 432x288 with 1 Axes>"
            ]
          },
          "metadata": {
            "tags": []
          }
        }
      ]
    },
    {
      "cell_type": "code",
      "metadata": {
        "id": "SGoFFMQJXpC5",
        "colab_type": "code",
        "colab": {
          "base_uri": "https://localhost:8080/",
          "height": 283
        },
        "outputId": "83874db9-278a-4274-dd95-fab91b12bb6a"
      },
      "source": [
        "#Creating distplot with custom  bin size\n",
        "sns.distplot((y_test-y_pred),bins=50)"
      ],
      "execution_count": 1016,
      "outputs": [
        {
          "output_type": "execute_result",
          "data": {
            "text/plain": [
              "<matplotlib.axes._subplots.AxesSubplot at 0x7f2c78bf37b8>"
            ]
          },
          "metadata": {
            "tags": []
          },
          "execution_count": 1016
        },
        {
          "output_type": "display_data",
          "data": {
            "image/png": "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\n",
            "text/plain": [
              "<Figure size 432x288 with 1 Axes>"
            ]
          },
          "metadata": {
            "tags": []
          }
        }
      ]
    },
    {
      "cell_type": "code",
      "metadata": {
        "id": "LgFB_Be7Xth_",
        "colab_type": "code",
        "colab": {
          "base_uri": "https://localhost:8080/",
          "height": 70
        },
        "outputId": "be0fa8ec-0b76-42b3-c8e5-4c7661be8e83"
      },
      "source": [
        "#Checking the performance of above algorithm over matrices MAE, MSE, and RMSE\n",
        "print('Mean Absolute Error:', metrics.mean_absolute_error(y_test,y_pred))\n",
        "print('Root Mean Squared Error:', np.sqrt(metrics.mean_squared_error(y_test, y_pred)))\n",
        "print('R2 Score:', metrics.r2_score(y_test, y_pred))"
      ],
      "execution_count": 1017,
      "outputs": [
        {
          "output_type": "stream",
          "text": [
            "Mean Absolute Error: 0.17984799945110888\n",
            "Root Mean Squared Error: 0.26631711282254455\n",
            "R2 Score: 0.9265042072904047\n"
          ],
          "name": "stdout"
        }
      ]
    }
  ]
}
